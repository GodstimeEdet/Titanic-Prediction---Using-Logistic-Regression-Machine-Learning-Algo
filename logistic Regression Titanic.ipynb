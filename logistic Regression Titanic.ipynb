{
 "cells": [
  {
   "cell_type": "markdown",
   "id": "1ef863ff",
   "metadata": {},
   "source": [
    "# Titanic Prediction -  Using Logistic Regression Machine Learning Algo"
   ]
  },
  {
   "cell_type": "markdown",
   "id": "f883d0ad",
   "metadata": {},
   "source": [
    "\n",
    "The Challenge\n",
    "\n",
    "The sinking of the Titanic is one of the most infamous shipwrecks in history.\n",
    "\n",
    "On April 15, 1912, during her maiden voyage, the widely considered “unsinkable” RMS Titanic sank after colliding with an iceberg. Unfortunately, there weren’t enough lifeboats for everyone onboard, resulting in the death of 1502 out of 2224 passengers and crew.\n",
    "\n",
    "While there was some element of luck involved in surviving, it seems some groups of people were more likely to survive than others.\n",
    "\n",
    "In this challenge, we are to build a predictive model that answers the question: \"What sorts of people were more likely to survive\" using passenger data (ie name, age, gender, socio-economic class, etc).\n"
   ]
  },
  {
   "cell_type": "markdown",
   "id": "486fd996",
   "metadata": {},
   "source": [
    "## Getting Started"
   ]
  },
  {
   "cell_type": "markdown",
   "id": "f84348d0",
   "metadata": {},
   "source": [
    "\n",
    "\n",
    "To begin working with the RMS Titanic passenger data, we'll first need to import the functionality we need, and load our data into a pandas DataFrame.\n",
    "Run the code cell below to load our data and display the first few entries (passengers) for examination using the .head() function."
   ]
  },
  {
   "cell_type": "code",
   "execution_count": 1,
   "id": "a7f0c25d",
   "metadata": {},
   "outputs": [],
   "source": [
    "#Importing the necessary libraries\n",
    "import pandas as pd\n",
    "import numpy as np\n",
    "import seaborn as sns\n",
    "import matplotlib.pyplot as plt\n",
    "%matplotlib inline"
   ]
  },
  {
   "cell_type": "code",
   "execution_count": 2,
   "id": "45ed1197",
   "metadata": {},
   "outputs": [],
   "source": [
    "## Load the data\n",
    "data=pd.read_csv('titanic.csv')"
   ]
  },
  {
   "cell_type": "code",
   "execution_count": 5,
   "id": "5b653d35",
   "metadata": {},
   "outputs": [
    {
     "data": {
      "text/html": [
       "<div>\n",
       "<style scoped>\n",
       "    .dataframe tbody tr th:only-of-type {\n",
       "        vertical-align: middle;\n",
       "    }\n",
       "\n",
       "    .dataframe tbody tr th {\n",
       "        vertical-align: top;\n",
       "    }\n",
       "\n",
       "    .dataframe thead th {\n",
       "        text-align: right;\n",
       "    }\n",
       "</style>\n",
       "<table border=\"1\" class=\"dataframe\">\n",
       "  <thead>\n",
       "    <tr style=\"text-align: right;\">\n",
       "      <th></th>\n",
       "      <th>PassengerId</th>\n",
       "      <th>Survived</th>\n",
       "      <th>Pclass</th>\n",
       "      <th>Name</th>\n",
       "      <th>Gender</th>\n",
       "      <th>Age</th>\n",
       "      <th>SibSp</th>\n",
       "      <th>Parch</th>\n",
       "      <th>Ticket</th>\n",
       "      <th>Fare</th>\n",
       "      <th>Cabin</th>\n",
       "      <th>Embarked</th>\n",
       "    </tr>\n",
       "  </thead>\n",
       "  <tbody>\n",
       "    <tr>\n",
       "      <th>0</th>\n",
       "      <td>1</td>\n",
       "      <td>0</td>\n",
       "      <td>3</td>\n",
       "      <td>Braund, Mr. Owen Harris</td>\n",
       "      <td>male</td>\n",
       "      <td>22.0</td>\n",
       "      <td>1</td>\n",
       "      <td>0</td>\n",
       "      <td>A/5 21171</td>\n",
       "      <td>7.2500</td>\n",
       "      <td>NaN</td>\n",
       "      <td>S</td>\n",
       "    </tr>\n",
       "    <tr>\n",
       "      <th>1</th>\n",
       "      <td>2</td>\n",
       "      <td>1</td>\n",
       "      <td>1</td>\n",
       "      <td>Cumings, Mrs. John Bradley (Florence Briggs Th...</td>\n",
       "      <td>female</td>\n",
       "      <td>38.0</td>\n",
       "      <td>1</td>\n",
       "      <td>0</td>\n",
       "      <td>PC 17599</td>\n",
       "      <td>71.2833</td>\n",
       "      <td>C85</td>\n",
       "      <td>C</td>\n",
       "    </tr>\n",
       "    <tr>\n",
       "      <th>2</th>\n",
       "      <td>3</td>\n",
       "      <td>1</td>\n",
       "      <td>3</td>\n",
       "      <td>Heikkinen, Miss. Laina</td>\n",
       "      <td>female</td>\n",
       "      <td>26.0</td>\n",
       "      <td>0</td>\n",
       "      <td>0</td>\n",
       "      <td>STON/O2. 3101282</td>\n",
       "      <td>7.9250</td>\n",
       "      <td>NaN</td>\n",
       "      <td>S</td>\n",
       "    </tr>\n",
       "    <tr>\n",
       "      <th>3</th>\n",
       "      <td>4</td>\n",
       "      <td>1</td>\n",
       "      <td>1</td>\n",
       "      <td>Futrelle, Mrs. Jacques Heath (Lily May Peel)</td>\n",
       "      <td>female</td>\n",
       "      <td>35.0</td>\n",
       "      <td>1</td>\n",
       "      <td>0</td>\n",
       "      <td>113803</td>\n",
       "      <td>53.1000</td>\n",
       "      <td>C123</td>\n",
       "      <td>S</td>\n",
       "    </tr>\n",
       "    <tr>\n",
       "      <th>4</th>\n",
       "      <td>5</td>\n",
       "      <td>0</td>\n",
       "      <td>3</td>\n",
       "      <td>Allen, Mr. William Henry</td>\n",
       "      <td>male</td>\n",
       "      <td>35.0</td>\n",
       "      <td>0</td>\n",
       "      <td>0</td>\n",
       "      <td>373450</td>\n",
       "      <td>8.0500</td>\n",
       "      <td>NaN</td>\n",
       "      <td>S</td>\n",
       "    </tr>\n",
       "  </tbody>\n",
       "</table>\n",
       "</div>"
      ],
      "text/plain": [
       "   PassengerId  Survived  Pclass  \\\n",
       "0            1         0       3   \n",
       "1            2         1       1   \n",
       "2            3         1       3   \n",
       "3            4         1       1   \n",
       "4            5         0       3   \n",
       "\n",
       "                                                Name  Gender   Age  SibSp  \\\n",
       "0                            Braund, Mr. Owen Harris    male  22.0      1   \n",
       "1  Cumings, Mrs. John Bradley (Florence Briggs Th...  female  38.0      1   \n",
       "2                             Heikkinen, Miss. Laina  female  26.0      0   \n",
       "3       Futrelle, Mrs. Jacques Heath (Lily May Peel)  female  35.0      1   \n",
       "4                           Allen, Mr. William Henry    male  35.0      0   \n",
       "\n",
       "   Parch            Ticket     Fare Cabin Embarked  \n",
       "0      0         A/5 21171   7.2500   NaN        S  \n",
       "1      0          PC 17599  71.2833   C85        C  \n",
       "2      0  STON/O2. 3101282   7.9250   NaN        S  \n",
       "3      0            113803  53.1000  C123        S  \n",
       "4      0            373450   8.0500   NaN        S  "
      ]
     },
     "execution_count": 5,
     "metadata": {},
     "output_type": "execute_result"
    }
   ],
   "source": [
    "data.head()"
   ]
  },
  {
   "cell_type": "code",
   "execution_count": 6,
   "id": "1e314408",
   "metadata": {},
   "outputs": [
    {
     "data": {
      "text/html": [
       "<div>\n",
       "<style scoped>\n",
       "    .dataframe tbody tr th:only-of-type {\n",
       "        vertical-align: middle;\n",
       "    }\n",
       "\n",
       "    .dataframe tbody tr th {\n",
       "        vertical-align: top;\n",
       "    }\n",
       "\n",
       "    .dataframe thead th {\n",
       "        text-align: right;\n",
       "    }\n",
       "</style>\n",
       "<table border=\"1\" class=\"dataframe\">\n",
       "  <thead>\n",
       "    <tr style=\"text-align: right;\">\n",
       "      <th></th>\n",
       "      <th>PassengerId</th>\n",
       "      <th>Survived</th>\n",
       "      <th>Pclass</th>\n",
       "      <th>Name</th>\n",
       "      <th>Gender</th>\n",
       "      <th>Age</th>\n",
       "      <th>SibSp</th>\n",
       "      <th>Parch</th>\n",
       "      <th>Ticket</th>\n",
       "      <th>Fare</th>\n",
       "      <th>Cabin</th>\n",
       "      <th>Embarked</th>\n",
       "    </tr>\n",
       "  </thead>\n",
       "  <tbody>\n",
       "    <tr>\n",
       "      <th>886</th>\n",
       "      <td>887</td>\n",
       "      <td>0</td>\n",
       "      <td>2</td>\n",
       "      <td>Montvila, Rev. Juozas</td>\n",
       "      <td>male</td>\n",
       "      <td>27.0</td>\n",
       "      <td>0</td>\n",
       "      <td>0</td>\n",
       "      <td>211536</td>\n",
       "      <td>13.00</td>\n",
       "      <td>NaN</td>\n",
       "      <td>S</td>\n",
       "    </tr>\n",
       "    <tr>\n",
       "      <th>887</th>\n",
       "      <td>888</td>\n",
       "      <td>1</td>\n",
       "      <td>1</td>\n",
       "      <td>Graham, Miss. Margaret Edith</td>\n",
       "      <td>female</td>\n",
       "      <td>19.0</td>\n",
       "      <td>0</td>\n",
       "      <td>0</td>\n",
       "      <td>112053</td>\n",
       "      <td>30.00</td>\n",
       "      <td>B42</td>\n",
       "      <td>S</td>\n",
       "    </tr>\n",
       "    <tr>\n",
       "      <th>888</th>\n",
       "      <td>889</td>\n",
       "      <td>0</td>\n",
       "      <td>3</td>\n",
       "      <td>Johnston, Miss. Catherine Helen \"Carrie\"</td>\n",
       "      <td>female</td>\n",
       "      <td>NaN</td>\n",
       "      <td>1</td>\n",
       "      <td>2</td>\n",
       "      <td>W./C. 6607</td>\n",
       "      <td>23.45</td>\n",
       "      <td>NaN</td>\n",
       "      <td>S</td>\n",
       "    </tr>\n",
       "    <tr>\n",
       "      <th>889</th>\n",
       "      <td>890</td>\n",
       "      <td>1</td>\n",
       "      <td>1</td>\n",
       "      <td>Behr, Mr. Karl Howell</td>\n",
       "      <td>male</td>\n",
       "      <td>26.0</td>\n",
       "      <td>0</td>\n",
       "      <td>0</td>\n",
       "      <td>111369</td>\n",
       "      <td>30.00</td>\n",
       "      <td>C148</td>\n",
       "      <td>C</td>\n",
       "    </tr>\n",
       "    <tr>\n",
       "      <th>890</th>\n",
       "      <td>891</td>\n",
       "      <td>0</td>\n",
       "      <td>3</td>\n",
       "      <td>Dooley, Mr. Patrick</td>\n",
       "      <td>male</td>\n",
       "      <td>32.0</td>\n",
       "      <td>0</td>\n",
       "      <td>0</td>\n",
       "      <td>370376</td>\n",
       "      <td>7.75</td>\n",
       "      <td>NaN</td>\n",
       "      <td>Q</td>\n",
       "    </tr>\n",
       "  </tbody>\n",
       "</table>\n",
       "</div>"
      ],
      "text/plain": [
       "     PassengerId  Survived  Pclass                                      Name  \\\n",
       "886          887         0       2                     Montvila, Rev. Juozas   \n",
       "887          888         1       1              Graham, Miss. Margaret Edith   \n",
       "888          889         0       3  Johnston, Miss. Catherine Helen \"Carrie\"   \n",
       "889          890         1       1                     Behr, Mr. Karl Howell   \n",
       "890          891         0       3                       Dooley, Mr. Patrick   \n",
       "\n",
       "     Gender   Age  SibSp  Parch      Ticket   Fare Cabin Embarked  \n",
       "886    male  27.0      0      0      211536  13.00   NaN        S  \n",
       "887  female  19.0      0      0      112053  30.00   B42        S  \n",
       "888  female   NaN      1      2  W./C. 6607  23.45   NaN        S  \n",
       "889    male  26.0      0      0      111369  30.00  C148        C  \n",
       "890    male  32.0      0      0      370376   7.75   NaN        Q  "
      ]
     },
     "execution_count": 6,
     "metadata": {},
     "output_type": "execute_result"
    }
   ],
   "source": [
    "data.tail()"
   ]
  },
  {
   "cell_type": "code",
   "execution_count": 7,
   "id": "73a0ed03",
   "metadata": {},
   "outputs": [
    {
     "name": "stdout",
     "output_type": "stream",
     "text": [
      "<class 'pandas.core.frame.DataFrame'>\n",
      "RangeIndex: 891 entries, 0 to 890\n",
      "Data columns (total 12 columns):\n",
      " #   Column       Non-Null Count  Dtype  \n",
      "---  ------       --------------  -----  \n",
      " 0   PassengerId  891 non-null    int64  \n",
      " 1   Survived     891 non-null    int64  \n",
      " 2   Pclass       891 non-null    int64  \n",
      " 3   Name         891 non-null    object \n",
      " 4   Gender       891 non-null    object \n",
      " 5   Age          714 non-null    float64\n",
      " 6   SibSp        891 non-null    int64  \n",
      " 7   Parch        891 non-null    int64  \n",
      " 8   Ticket       891 non-null    object \n",
      " 9   Fare         891 non-null    float64\n",
      " 10  Cabin        204 non-null    object \n",
      " 11  Embarked     889 non-null    object \n",
      "dtypes: float64(2), int64(5), object(5)\n",
      "memory usage: 83.7+ KB\n"
     ]
    }
   ],
   "source": [
    "data.info()"
   ]
  },
  {
   "cell_type": "markdown",
   "id": "e53fdd06",
   "metadata": {},
   "source": [
    "From a sample of the RMS Titanic data, we can see the various features present for each passenger on the ship:\n",
    "\n",
    "    Survived: CATEGORICAL: Outcome of survival (0 = No; 1 = Yes)\n",
    "    Pclass: CATEGORICAL: Socio-economic class (1 = Upper class; 2 = Middle class; 3 = Lower class)\n",
    "    Name: CATEGORICAL-> NORMINAL :Name of passenger\n",
    "    Sex: CATEGORICAL:Sex of the passenger\n",
    "    Age: NUMERICAL CONTINUOUS: Age of the passenger (Some entries contain NaN)\n",
    "    SibSp: CATEGORICAL Number of siblings and spouses of the passenger aboard\n",
    "    Parch: CATEGORICAL Number of parents and children of the passenger aboard\n",
    "    Ticket: CATEGORICAL Ticket number of the passenger\n",
    "    Fare: NUMERICAL CONTINUOUS: Fare paid by the passenger\n",
    "    Cabin Cabin number of the passenger (Some entries contain NaN)\n",
    "    Embarked: CATEGORICAL-> NORMINAL: Port of embarkation of the passenger (C = Cherbourg; Q = Queenstown; S = Southampton)\n",
    "\n",
    "Since we're interested in the outcome of survival for each passenger or crew member, we can remove the Survived feature from this dataset and store it as its own separate variable outcomes. We will use these outcomes as our prediction targets.\n",
    "Run the code cell below to remove Survived as a feature of the dataset and store it in outcomes.\n"
   ]
  },
  {
   "cell_type": "markdown",
   "id": "2aa261bb",
   "metadata": {},
   "source": [
    "# Exploratory Data Analysis"
   ]
  },
  {
   "cell_type": "markdown",
   "id": "7790100d",
   "metadata": {},
   "source": [
    "<strong>PROBLEM:</strong> To predict whether is a particular person survived based on the information provided in the test dataset."
   ]
  },
  {
   "cell_type": "code",
   "execution_count": 10,
   "id": "1d966148",
   "metadata": {},
   "outputs": [
    {
     "data": {
      "text/plain": [
       "PassengerId      0\n",
       "Survived         0\n",
       "Pclass           0\n",
       "Name             0\n",
       "Gender           0\n",
       "Age            177\n",
       "SibSp            0\n",
       "Parch            0\n",
       "Ticket           0\n",
       "Fare             0\n",
       "Cabin          687\n",
       "Embarked         2\n",
       "dtype: int64"
      ]
     },
     "execution_count": 10,
     "metadata": {},
     "output_type": "execute_result"
    }
   ],
   "source": [
    "## sum of null values\n",
    "\n",
    "data.isnull().sum()"
   ]
  },
  {
   "cell_type": "markdown",
   "id": "0deaec21",
   "metadata": {},
   "source": [
    "In this missing value check, we realised that there are missing value in 3 features in the dataframe\n",
    "* Age has -> 177\n",
    "* Cabin has -> 687\n",
    "**Embarked has ->2\n",
    "\n",
    "all missing values"
   ]
  },
  {
   "cell_type": "code",
   "execution_count": 89,
   "id": "664f87d2",
   "metadata": {},
   "outputs": [],
   "source": [
    "#Filling null values in Training dataset\n",
    "\n",
    "\n",
    "data['Age'].fillna(data['Age'].mean(),inplace=True)\n",
    "\n",
    "data['Cabin'].fillna(data['Cabin'].mode().values[0],inplace=True)\n",
    "\n",
    "data['Embarked'].fillna(data['Embarked'].mode().values[0],inplace=True)"
   ]
  },
  {
   "cell_type": "code",
   "execution_count": 90,
   "id": "bcf4779a",
   "metadata": {},
   "outputs": [
    {
     "data": {
      "text/plain": [
       "PassengerId    0\n",
       "Survived       0\n",
       "Pclass         0\n",
       "Name           0\n",
       "Gender         0\n",
       "Age            0\n",
       "SibSp          0\n",
       "Parch          0\n",
       "Ticket         0\n",
       "Fare           0\n",
       "Cabin          0\n",
       "Embarked       0\n",
       "dtype: int64"
      ]
     },
     "execution_count": 90,
     "metadata": {},
     "output_type": "execute_result"
    }
   ],
   "source": [
    "data.isnull().sum()"
   ]
  },
  {
   "cell_type": "markdown",
   "id": "7dc35cd0",
   "metadata": {},
   "source": [
    "<strong>What Datatypes are there in the dataframe?</strong>\n",
    "\n",
    "We usually consider features with a datatype of object as categorical features. And those with float or int could be numerical features.\n",
    "\n",
    "However, sometimes the features that we consider as numerical might actually turn out to be categorical.\n",
    "\n",
    "The next few steps will help us figure out how to process our data so our machine learning model can learn from it. Ideally all the features will be encoded into a numerical value of some kind (maybe 0 or 1 / something else).\n"
   ]
  },
  {
   "cell_type": "code",
   "execution_count": 24,
   "id": "9c3738c4",
   "metadata": {},
   "outputs": [
    {
     "data": {
      "text/plain": [
       "PassengerId      int64\n",
       "Survived         int64\n",
       "Pclass           int64\n",
       "Name            object\n",
       "Gender          object\n",
       "Age            float64\n",
       "SibSp            int64\n",
       "Parch            int64\n",
       "Ticket          object\n",
       "Fare           float64\n",
       "Cabin           object\n",
       "Embarked        object\n",
       "dtype: object"
      ]
     },
     "execution_count": 24,
     "metadata": {},
     "output_type": "execute_result"
    }
   ],
   "source": [
    "# Datatypes in the dataset\n",
    "data.dtypes"
   ]
  },
  {
   "cell_type": "markdown",
   "id": "fb1c5335",
   "metadata": {},
   "source": [
    "## Exploring each of these features\n",
    "\n",
    "We will go through each of the columns and see which all we can use in our first models. Some of them needs more preprocessing than the others to get ready."
   ]
  },
  {
   "cell_type": "code",
   "execution_count": 25,
   "id": "9daaff33",
   "metadata": {},
   "outputs": [
    {
     "data": {
      "text/html": [
       "<div>\n",
       "<style scoped>\n",
       "    .dataframe tbody tr th:only-of-type {\n",
       "        vertical-align: middle;\n",
       "    }\n",
       "\n",
       "    .dataframe tbody tr th {\n",
       "        vertical-align: top;\n",
       "    }\n",
       "\n",
       "    .dataframe thead th {\n",
       "        text-align: right;\n",
       "    }\n",
       "</style>\n",
       "<table border=\"1\" class=\"dataframe\">\n",
       "  <thead>\n",
       "    <tr style=\"text-align: right;\">\n",
       "      <th></th>\n",
       "      <th>PassengerId</th>\n",
       "      <th>Survived</th>\n",
       "      <th>Pclass</th>\n",
       "      <th>Name</th>\n",
       "      <th>Gender</th>\n",
       "      <th>Age</th>\n",
       "      <th>SibSp</th>\n",
       "      <th>Parch</th>\n",
       "      <th>Ticket</th>\n",
       "      <th>Fare</th>\n",
       "      <th>Cabin</th>\n",
       "      <th>Embarked</th>\n",
       "    </tr>\n",
       "  </thead>\n",
       "  <tbody>\n",
       "    <tr>\n",
       "      <th>0</th>\n",
       "      <td>1</td>\n",
       "      <td>0</td>\n",
       "      <td>3</td>\n",
       "      <td>Braund, Mr. Owen Harris</td>\n",
       "      <td>male</td>\n",
       "      <td>22.0</td>\n",
       "      <td>1</td>\n",
       "      <td>0</td>\n",
       "      <td>A/5 21171</td>\n",
       "      <td>7.2500</td>\n",
       "      <td>B96 B98</td>\n",
       "      <td>S</td>\n",
       "    </tr>\n",
       "    <tr>\n",
       "      <th>1</th>\n",
       "      <td>2</td>\n",
       "      <td>1</td>\n",
       "      <td>1</td>\n",
       "      <td>Cumings, Mrs. John Bradley (Florence Briggs Th...</td>\n",
       "      <td>female</td>\n",
       "      <td>38.0</td>\n",
       "      <td>1</td>\n",
       "      <td>0</td>\n",
       "      <td>PC 17599</td>\n",
       "      <td>71.2833</td>\n",
       "      <td>C85</td>\n",
       "      <td>C</td>\n",
       "    </tr>\n",
       "    <tr>\n",
       "      <th>2</th>\n",
       "      <td>3</td>\n",
       "      <td>1</td>\n",
       "      <td>3</td>\n",
       "      <td>Heikkinen, Miss. Laina</td>\n",
       "      <td>female</td>\n",
       "      <td>26.0</td>\n",
       "      <td>0</td>\n",
       "      <td>0</td>\n",
       "      <td>STON/O2. 3101282</td>\n",
       "      <td>7.9250</td>\n",
       "      <td>B96 B98</td>\n",
       "      <td>S</td>\n",
       "    </tr>\n",
       "    <tr>\n",
       "      <th>3</th>\n",
       "      <td>4</td>\n",
       "      <td>1</td>\n",
       "      <td>1</td>\n",
       "      <td>Futrelle, Mrs. Jacques Heath (Lily May Peel)</td>\n",
       "      <td>female</td>\n",
       "      <td>35.0</td>\n",
       "      <td>1</td>\n",
       "      <td>0</td>\n",
       "      <td>113803</td>\n",
       "      <td>53.1000</td>\n",
       "      <td>C123</td>\n",
       "      <td>S</td>\n",
       "    </tr>\n",
       "    <tr>\n",
       "      <th>4</th>\n",
       "      <td>5</td>\n",
       "      <td>0</td>\n",
       "      <td>3</td>\n",
       "      <td>Allen, Mr. William Henry</td>\n",
       "      <td>male</td>\n",
       "      <td>35.0</td>\n",
       "      <td>0</td>\n",
       "      <td>0</td>\n",
       "      <td>373450</td>\n",
       "      <td>8.0500</td>\n",
       "      <td>B96 B98</td>\n",
       "      <td>S</td>\n",
       "    </tr>\n",
       "  </tbody>\n",
       "</table>\n",
       "</div>"
      ],
      "text/plain": [
       "   PassengerId  Survived  Pclass  \\\n",
       "0            1         0       3   \n",
       "1            2         1       1   \n",
       "2            3         1       3   \n",
       "3            4         1       1   \n",
       "4            5         0       3   \n",
       "\n",
       "                                                Name  Gender   Age  SibSp  \\\n",
       "0                            Braund, Mr. Owen Harris    male  22.0      1   \n",
       "1  Cumings, Mrs. John Bradley (Florence Briggs Th...  female  38.0      1   \n",
       "2                             Heikkinen, Miss. Laina  female  26.0      0   \n",
       "3       Futrelle, Mrs. Jacques Heath (Lily May Peel)  female  35.0      1   \n",
       "4                           Allen, Mr. William Henry    male  35.0      0   \n",
       "\n",
       "   Parch            Ticket     Fare    Cabin Embarked  \n",
       "0      0         A/5 21171   7.2500  B96 B98        S  \n",
       "1      0          PC 17599  71.2833      C85        C  \n",
       "2      0  STON/O2. 3101282   7.9250  B96 B98        S  \n",
       "3      0            113803  53.1000     C123        S  \n",
       "4      0            373450   8.0500  B96 B98        S  "
      ]
     },
     "execution_count": 25,
     "metadata": {},
     "output_type": "execute_result"
    }
   ],
   "source": [
    "data.head()"
   ]
  },
  {
   "cell_type": "markdown",
   "id": "2f8268de",
   "metadata": {},
   "source": [
    "FEATURE 1: Survived\n",
    "\n",
    "Description: Whether the passenger survived or not.\n",
    "\n",
    "Key: 0 = did not survive, 1 = survive\n",
    "\n",
    "<strong>*This is the variable we want our ML model to predict based off the others.*</strong>"
   ]
  },
  {
   "cell_type": "code",
   "execution_count": 26,
   "id": "e752079f",
   "metadata": {},
   "outputs": [
    {
     "name": "stdout",
     "output_type": "stream",
     "text": [
      "0    549\n",
      "1    342\n",
      "Name: Survived, dtype: int64\n"
     ]
    },
    {
     "data": {
      "image/png": "[encoded data removed]",
      "text/plain": [
       "<Figure size 500x500 with 1 Axes>"
      ]
     },
     "metadata": {},
     "output_type": "display_data"
    }
   ],
   "source": [
    "# How many people has survived the titanic?\n",
    "fig = plt.figure(figsize=(5,5))\n",
    "sns.countplot(x='Survived',data=data)             #--> You can use this to get a vertical graph.\n",
    " \n",
    "print(data['Survived'].value_counts())             ##This will help us see the exact number along with the graph.\n",
    "\n"
   ]
  },
  {
   "cell_type": "markdown",
   "id": "5cb21797",
   "metadata": {},
   "source": [
    "So here we can see that the people who survived (342) are far less than the ones who did'nt (549). Thus, in the future when we run our test dataset and we get that the number of people who survived is more then that means that there something wrong."
   ]
  },
  {
   "cell_type": "code",
   "execution_count": 27,
   "id": "d930bdc2",
   "metadata": {},
   "outputs": [
    {
     "data": {
      "image/png": "[encoded data removed]",
      "text/plain": [
       "<Figure size 640x480 with 1 Axes>"
      ]
     },
     "metadata": {},
     "output_type": "display_data"
    }
   ],
   "source": [
    "## Bivariate Analysis\n",
    "\n",
    "sns.countplot(x='Pclass',hue='Survived',data=data)\n",
    "plt.show()"
   ]
  },
  {
   "cell_type": "markdown",
   "id": "1615b76e",
   "metadata": {},
   "source": [
    "\n",
    "FEATURE 2: Name\n",
    "\n",
    "Description: The name of the passenger.\n"
   ]
  },
  {
   "cell_type": "code",
   "execution_count": 28,
   "id": "6cde4a5c",
   "metadata": {},
   "outputs": [
    {
     "data": {
      "text/plain": [
       "Braund, Mr. Owen Harris                            1\n",
       "Boulos, Mr. Hanna                                  1\n",
       "Frolicher-Stehli, Mr. Maxmillian                   1\n",
       "Gilinski, Mr. Eliezer                              1\n",
       "Murdlin, Mr. Joseph                                1\n",
       "Rintamaki, Mr. Matti                               1\n",
       "Stephenson, Mrs. Walter Bertram (Martha Eustis)    1\n",
       "Elsbury, Mr. William James                         1\n",
       "Bourke, Miss. Mary                                 1\n",
       "Chapman, Mr. John Henry                            1\n",
       "Van Impe, Mr. Jean Baptiste                        1\n",
       "Leitch, Miss. Jessie Wills                         1\n",
       "Johnson, Mr. Alfred                                1\n",
       "Duff Gordon, Sir. Cosmo Edmund (\"Mr Morgan\")       1\n",
       "Taussig, Miss. Ruth                                1\n",
       "Name: Name, dtype: int64"
      ]
     },
     "execution_count": 28,
     "metadata": {},
     "output_type": "execute_result"
    }
   ],
   "source": [
    "# How many different names are there?\n",
    "data['Name'].value_counts()[:15]      #--> This can be used to view the different types of names (here we are taking the first 15)."
   ]
  },
  {
   "cell_type": "markdown",
   "id": "4a8a8b11",
   "metadata": {},
   "source": [
    "Every row has a unique name. This is similar to the passenger ID.\n",
    "\n",
    "<strong>Note:</strong> Because of so many different names we won't be using the name variable\n"
   ]
  },
  {
   "cell_type": "markdown",
   "id": "4a170c96",
   "metadata": {},
   "source": [
    "\n",
    "FEATURE 3: Gender\n",
    "\n",
    "Description: The gender of the passenger (male or female).\n"
   ]
  },
  {
   "cell_type": "code",
   "execution_count": 40,
   "id": "76ed62ed",
   "metadata": {},
   "outputs": [
    {
     "name": "stdout",
     "output_type": "stream",
     "text": [
      "male      577\n",
      "female    314\n",
      "Name: Gender, dtype: int64\n"
     ]
    },
    {
     "data": {
      "image/png": "[encoded data removed]",
      "text/plain": [
       "<Figure size 500x500 with 1 Axes>"
      ]
     },
     "metadata": {},
     "output_type": "display_data"
    }
   ],
   "source": [
    "plt.figure(figsize=(5,5))\n",
    "sns.countplot(x='Gender',data=data)\n",
    "print(data['Gender'].value_counts())\n",
    "\n"
   ]
  },
  {
   "cell_type": "markdown",
   "id": "c4b88bc1",
   "metadata": {},
   "source": [
    "\n",
    "FEATURE 4: Age\n",
    "\n",
    "Description: The age of each passenger.\n",
    "\n"
   ]
  },
  {
   "cell_type": "code",
   "execution_count": 83,
   "id": "322d4c18",
   "metadata": {},
   "outputs": [
    {
     "data": {
      "text/plain": [
       "<AxesSubplot:xlabel='Age', ylabel='Count'>"
      ]
     },
     "execution_count": 83,
     "metadata": {},
     "output_type": "execute_result"
    },
    {
     "data": {
      "image/png": "[encoded data removed]",
      "text/plain": [
       "<Figure size 640x480 with 1 Axes>"
      ]
     },
     "metadata": {},
     "output_type": "display_data"
    }
   ],
   "source": [
    "sns.histplot(x='Age',hue='Survived',data=data)"
   ]
  },
  {
   "cell_type": "markdown",
   "id": "4e92dcc8",
   "metadata": {},
   "source": [
    "\n",
    "FEATURE 5: SibSp\n",
    "\n",
    "Description: The number of siblings or spouses aboard the Titanic.\n"
   ]
  },
  {
   "cell_type": "code",
   "execution_count": 32,
   "id": "2b944bdd",
   "metadata": {},
   "outputs": [
    {
     "data": {
      "text/plain": [
       "0    608\n",
       "1    209\n",
       "2     28\n",
       "4     18\n",
       "3     16\n",
       "8      7\n",
       "5      5\n",
       "Name: SibSp, dtype: int64"
      ]
     },
     "execution_count": 32,
     "metadata": {},
     "output_type": "execute_result"
    }
   ],
   "source": [
    "# What values are present?\n",
    "data['SibSp'].value_counts()\n",
    "\n"
   ]
  },
  {
   "cell_type": "markdown",
   "id": "aa3ef564",
   "metadata": {},
   "source": [
    "We can see that most of the passengers on board the Titanic didn't have any spouse or sibling with them.\n"
   ]
  },
  {
   "cell_type": "code",
   "execution_count": 33,
   "id": "da783da0",
   "metadata": {},
   "outputs": [
    {
     "data": {
      "image/png": "[encoded data removed]",
      "text/plain": [
       "<Figure size 640x480 with 1 Axes>"
      ]
     },
     "metadata": {},
     "output_type": "display_data"
    }
   ],
   "source": [
    "sns.countplot(x='SibSp',hue='Survived',data=data)\n",
    "plt.show()"
   ]
  },
  {
   "cell_type": "markdown",
   "id": "852ecad9",
   "metadata": {},
   "source": [
    "But the passengers with one sibling or spouse has a higher chance of survival. This can be because if you had a wife onboard, your chances of survival can be high."
   ]
  },
  {
   "cell_type": "markdown",
   "id": "71ceb4dc",
   "metadata": {},
   "source": [
    "\n",
    "FEATURE 6: Parch\n",
    "\n",
    "Description: The number of parents or children on board the Titanic.\n",
    "\n",
    "    Since this is similar to SibSp, we will do a similar analysis.\n",
    "\n"
   ]
  },
  {
   "cell_type": "code",
   "execution_count": 35,
   "id": "fbf2d867",
   "metadata": {},
   "outputs": [
    {
     "data": {
      "text/plain": [
       "0    678\n",
       "1    118\n",
       "2     80\n",
       "5      5\n",
       "3      5\n",
       "4      4\n",
       "6      1\n",
       "Name: Parch, dtype: int64"
      ]
     },
     "execution_count": 35,
     "metadata": {},
     "output_type": "execute_result"
    }
   ],
   "source": [
    "# What values are present?\n",
    "data['Parch'].value_counts()\n"
   ]
  },
  {
   "cell_type": "code",
   "execution_count": 36,
   "id": "723da607",
   "metadata": {},
   "outputs": [
    {
     "data": {
      "image/png": "[encoded data removed]",
      "text/plain": [
       "<Figure size 640x480 with 1 Axes>"
      ]
     },
     "metadata": {},
     "output_type": "display_data"
    }
   ],
   "source": [
    "sns.countplot(x='Parch',hue='Survived',data=data)\n",
    "plt.show()"
   ]
  },
  {
   "cell_type": "markdown",
   "id": "821c770a",
   "metadata": {},
   "source": [
    "But the passengers with one parent or child has a higher chance of survival. This can be because if you had a wife onboard, your chances of survival can be high."
   ]
  },
  {
   "cell_type": "markdown",
   "id": "3160285a",
   "metadata": {},
   "source": [
    "FEATURE 7: Fare\n",
    "\n",
    "Description: The cost of each ticket.\n"
   ]
  },
  {
   "cell_type": "code",
   "execution_count": 84,
   "id": "ad1d564d",
   "metadata": {},
   "outputs": [
    {
     "data": {
      "text/plain": [
       "<AxesSubplot:xlabel='Fare', ylabel='Count'>"
      ]
     },
     "execution_count": 84,
     "metadata": {},
     "output_type": "execute_result"
    },
    {
     "data": {
      "image/png": "[encoded data removed]",
      "text/plain": [
       "<Figure size 640x480 with 1 Axes>"
      ]
     },
     "metadata": {},
     "output_type": "display_data"
    }
   ],
   "source": [
    "sns.histplot(x='Fare',hue='Survived',data=data)"
   ]
  },
  {
   "cell_type": "markdown",
   "id": "5f1217f8",
   "metadata": {},
   "source": [
    "\n",
    "FEATURE 8: Embarked\n",
    "\n",
    "Description: The port where each passenger boarded the Titanic.\n",
    "\n",
    "Key: C = Cherbourg, Q = Queenstown, S = Southampton\n"
   ]
  },
  {
   "cell_type": "code",
   "execution_count": 86,
   "id": "299ad0fa",
   "metadata": {},
   "outputs": [
    {
     "data": {
      "text/plain": [
       "S    646\n",
       "C    168\n",
       "Q     77\n",
       "Name: Embarked, dtype: int64"
      ]
     },
     "execution_count": 86,
     "metadata": {},
     "output_type": "execute_result"
    }
   ],
   "source": [
    "# What are the different values in Embarked?\n",
    "data['Embarked'].value_counts()"
   ]
  },
  {
   "cell_type": "markdown",
   "id": "a34b2c5d",
   "metadata": {},
   "source": [
    "Embarked it a categorical variable because there are 3 categories from which a passenger could have boarded.\n"
   ]
  },
  {
   "cell_type": "code",
   "execution_count": 41,
   "id": "f37c7513",
   "metadata": {},
   "outputs": [],
   "source": [
    "data_select = pd.DataFrame() #"
   ]
  },
  {
   "cell_type": "code",
   "execution_count": 88,
   "id": "8307284c",
   "metadata": {},
   "outputs": [
    {
     "data": {
      "text/plain": [
       "<AxesSubplot:xlabel='Embarked', ylabel='count'>"
      ]
     },
     "execution_count": 88,
     "metadata": {},
     "output_type": "execute_result"
    },
    {
     "data": {
      "image/png": "[encoded data removed]",
      "text/plain": [
       "<Figure size 640x480 with 1 Axes>"
      ]
     },
     "metadata": {},
     "output_type": "display_data"
    }
   ],
   "source": [
    "# Viewing the counts\n",
    "sns.countplot(x= 'Embarked', data= data)\n",
    "\n"
   ]
  },
  {
   "cell_type": "code",
   "execution_count": 44,
   "id": "e5f31687",
   "metadata": {
    "scrolled": true
   },
   "outputs": [
    {
     "name": "stdout",
     "output_type": "stream",
     "text": [
      "<class 'pandas.core.frame.DataFrame'>\n",
      "RangeIndex: 891 entries, 0 to 890\n",
      "Data columns (total 12 columns):\n",
      " #   Column       Non-Null Count  Dtype  \n",
      "---  ------       --------------  -----  \n",
      " 0   PassengerId  891 non-null    int64  \n",
      " 1   Survived     891 non-null    int64  \n",
      " 2   Pclass       891 non-null    int64  \n",
      " 3   Name         891 non-null    object \n",
      " 4   Gender       891 non-null    object \n",
      " 5   Age          891 non-null    float64\n",
      " 6   SibSp        891 non-null    int64  \n",
      " 7   Parch        891 non-null    int64  \n",
      " 8   Ticket       891 non-null    object \n",
      " 9   Fare         891 non-null    float64\n",
      " 10  Cabin        891 non-null    object \n",
      " 11  Embarked     891 non-null    object \n",
      "dtypes: float64(2), int64(5), object(5)\n",
      "memory usage: 83.7+ KB\n"
     ]
    }
   ],
   "source": [
    "data.info()"
   ]
  },
  {
   "cell_type": "code",
   "execution_count": 45,
   "id": "80cc9e78",
   "metadata": {},
   "outputs": [],
   "source": [
    "data_select['PassengerId'] = data['PassengerId']\n",
    "data_select['Pclass'] = data['Pclass']\n",
    "data_select['Gender'] = data['Gender']\n",
    "data_select['Age'] = data['Age']\n",
    "data_select['SibSp'] = data['SibSp']\n",
    "data_select['Parch'] = data['Parch']\n",
    "data_select['Fare'] = data['Fare']\n",
    "data_select['Cabin'] = data['Cabin']\n",
    "data_select['Embarked'] = data['Embarked']\n",
    "data_select['Survived'] = data['Survived']"
   ]
  },
  {
   "cell_type": "code",
   "execution_count": null,
   "id": "41a6f1df",
   "metadata": {},
   "outputs": [],
   "source": [
    "plt.figure(figsize=(20,25),facecolor='white')\n",
    "plotnumber=1\n",
    "\n",
    "for column in data:\n",
    "    if plotnumber<=9:\n",
    "        ax=plt.subplot(3,3,plotnumber)\n",
    "        sns.histplot(data[column])\n",
    "        plt.xlabel(column,fontsize=20)\n",
    "        plt.ylabel('Count',fontsize=20)\n",
    "    plotnumber+=1\n",
    "plt.tight_layout()"
   ]
  },
  {
   "cell_type": "code",
   "execution_count": 46,
   "id": "5b712c59",
   "metadata": {},
   "outputs": [
    {
     "data": {
      "text/html": [
       "<div>\n",
       "<style scoped>\n",
       "    .dataframe tbody tr th:only-of-type {\n",
       "        vertical-align: middle;\n",
       "    }\n",
       "\n",
       "    .dataframe tbody tr th {\n",
       "        vertical-align: top;\n",
       "    }\n",
       "\n",
       "    .dataframe thead th {\n",
       "        text-align: right;\n",
       "    }\n",
       "</style>\n",
       "<table border=\"1\" class=\"dataframe\">\n",
       "  <thead>\n",
       "    <tr style=\"text-align: right;\">\n",
       "      <th></th>\n",
       "      <th>PassengerId</th>\n",
       "      <th>Pclass</th>\n",
       "      <th>Gender</th>\n",
       "      <th>Age</th>\n",
       "      <th>SibSp</th>\n",
       "      <th>Parch</th>\n",
       "      <th>Fare</th>\n",
       "      <th>Cabin</th>\n",
       "      <th>Embarked</th>\n",
       "      <th>Survived</th>\n",
       "    </tr>\n",
       "  </thead>\n",
       "  <tbody>\n",
       "    <tr>\n",
       "      <th>0</th>\n",
       "      <td>1</td>\n",
       "      <td>3</td>\n",
       "      <td>male</td>\n",
       "      <td>22.000000</td>\n",
       "      <td>1</td>\n",
       "      <td>0</td>\n",
       "      <td>7.2500</td>\n",
       "      <td>B96 B98</td>\n",
       "      <td>S</td>\n",
       "      <td>0</td>\n",
       "    </tr>\n",
       "    <tr>\n",
       "      <th>1</th>\n",
       "      <td>2</td>\n",
       "      <td>1</td>\n",
       "      <td>female</td>\n",
       "      <td>38.000000</td>\n",
       "      <td>1</td>\n",
       "      <td>0</td>\n",
       "      <td>71.2833</td>\n",
       "      <td>C85</td>\n",
       "      <td>C</td>\n",
       "      <td>1</td>\n",
       "    </tr>\n",
       "    <tr>\n",
       "      <th>2</th>\n",
       "      <td>3</td>\n",
       "      <td>3</td>\n",
       "      <td>female</td>\n",
       "      <td>26.000000</td>\n",
       "      <td>0</td>\n",
       "      <td>0</td>\n",
       "      <td>7.9250</td>\n",
       "      <td>B96 B98</td>\n",
       "      <td>S</td>\n",
       "      <td>1</td>\n",
       "    </tr>\n",
       "    <tr>\n",
       "      <th>3</th>\n",
       "      <td>4</td>\n",
       "      <td>1</td>\n",
       "      <td>female</td>\n",
       "      <td>35.000000</td>\n",
       "      <td>1</td>\n",
       "      <td>0</td>\n",
       "      <td>53.1000</td>\n",
       "      <td>C123</td>\n",
       "      <td>S</td>\n",
       "      <td>1</td>\n",
       "    </tr>\n",
       "    <tr>\n",
       "      <th>4</th>\n",
       "      <td>5</td>\n",
       "      <td>3</td>\n",
       "      <td>male</td>\n",
       "      <td>35.000000</td>\n",
       "      <td>0</td>\n",
       "      <td>0</td>\n",
       "      <td>8.0500</td>\n",
       "      <td>B96 B98</td>\n",
       "      <td>S</td>\n",
       "      <td>0</td>\n",
       "    </tr>\n",
       "    <tr>\n",
       "      <th>...</th>\n",
       "      <td>...</td>\n",
       "      <td>...</td>\n",
       "      <td>...</td>\n",
       "      <td>...</td>\n",
       "      <td>...</td>\n",
       "      <td>...</td>\n",
       "      <td>...</td>\n",
       "      <td>...</td>\n",
       "      <td>...</td>\n",
       "      <td>...</td>\n",
       "    </tr>\n",
       "    <tr>\n",
       "      <th>886</th>\n",
       "      <td>887</td>\n",
       "      <td>2</td>\n",
       "      <td>male</td>\n",
       "      <td>27.000000</td>\n",
       "      <td>0</td>\n",
       "      <td>0</td>\n",
       "      <td>13.0000</td>\n",
       "      <td>B96 B98</td>\n",
       "      <td>S</td>\n",
       "      <td>0</td>\n",
       "    </tr>\n",
       "    <tr>\n",
       "      <th>887</th>\n",
       "      <td>888</td>\n",
       "      <td>1</td>\n",
       "      <td>female</td>\n",
       "      <td>19.000000</td>\n",
       "      <td>0</td>\n",
       "      <td>0</td>\n",
       "      <td>30.0000</td>\n",
       "      <td>B42</td>\n",
       "      <td>S</td>\n",
       "      <td>1</td>\n",
       "    </tr>\n",
       "    <tr>\n",
       "      <th>888</th>\n",
       "      <td>889</td>\n",
       "      <td>3</td>\n",
       "      <td>female</td>\n",
       "      <td>29.699118</td>\n",
       "      <td>1</td>\n",
       "      <td>2</td>\n",
       "      <td>23.4500</td>\n",
       "      <td>B96 B98</td>\n",
       "      <td>S</td>\n",
       "      <td>0</td>\n",
       "    </tr>\n",
       "    <tr>\n",
       "      <th>889</th>\n",
       "      <td>890</td>\n",
       "      <td>1</td>\n",
       "      <td>male</td>\n",
       "      <td>26.000000</td>\n",
       "      <td>0</td>\n",
       "      <td>0</td>\n",
       "      <td>30.0000</td>\n",
       "      <td>C148</td>\n",
       "      <td>C</td>\n",
       "      <td>1</td>\n",
       "    </tr>\n",
       "    <tr>\n",
       "      <th>890</th>\n",
       "      <td>891</td>\n",
       "      <td>3</td>\n",
       "      <td>male</td>\n",
       "      <td>32.000000</td>\n",
       "      <td>0</td>\n",
       "      <td>0</td>\n",
       "      <td>7.7500</td>\n",
       "      <td>B96 B98</td>\n",
       "      <td>Q</td>\n",
       "      <td>0</td>\n",
       "    </tr>\n",
       "  </tbody>\n",
       "</table>\n",
       "<p>891 rows × 10 columns</p>\n",
       "</div>"
      ],
      "text/plain": [
       "     PassengerId  Pclass  Gender        Age  SibSp  Parch     Fare    Cabin  \\\n",
       "0              1       3    male  22.000000      1      0   7.2500  B96 B98   \n",
       "1              2       1  female  38.000000      1      0  71.2833      C85   \n",
       "2              3       3  female  26.000000      0      0   7.9250  B96 B98   \n",
       "3              4       1  female  35.000000      1      0  53.1000     C123   \n",
       "4              5       3    male  35.000000      0      0   8.0500  B96 B98   \n",
       "..           ...     ...     ...        ...    ...    ...      ...      ...   \n",
       "886          887       2    male  27.000000      0      0  13.0000  B96 B98   \n",
       "887          888       1  female  19.000000      0      0  30.0000      B42   \n",
       "888          889       3  female  29.699118      1      2  23.4500  B96 B98   \n",
       "889          890       1    male  26.000000      0      0  30.0000     C148   \n",
       "890          891       3    male  32.000000      0      0   7.7500  B96 B98   \n",
       "\n",
       "    Embarked  Survived  \n",
       "0          S         0  \n",
       "1          C         1  \n",
       "2          S         1  \n",
       "3          S         1  \n",
       "4          S         0  \n",
       "..       ...       ...  \n",
       "886        S         0  \n",
       "887        S         1  \n",
       "888        S         0  \n",
       "889        C         1  \n",
       "890        Q         0  \n",
       "\n",
       "[891 rows x 10 columns]"
      ]
     },
     "execution_count": 46,
     "metadata": {},
     "output_type": "execute_result"
    }
   ],
   "source": [
    "data_select"
   ]
  },
  {
   "cell_type": "markdown",
   "id": "ebb0134f",
   "metadata": {},
   "source": [
    "###  Feature Encoding\n",
    "\n",
    "Now since our some categorical data, we can feature encode them so that they are ready for our machine learning models.\n",
    "\n"
   ]
  },
  {
   "cell_type": "code",
   "execution_count": 47,
   "id": "f99feee0",
   "metadata": {},
   "outputs": [],
   "source": [
    "from sklearn.preprocessing import LabelEncoder\n",
    "\n",
    "# create an instance of LabelEncoder\n",
    "label_encoder = LabelEncoder()"
   ]
  },
  {
   "cell_type": "code",
   "execution_count": 49,
   "id": "8f8ef902",
   "metadata": {},
   "outputs": [
    {
     "name": "stdout",
     "output_type": "stream",
     "text": [
      "[1 0 0 0 1 1 1 1 0 0 0 0 1 1 0 0 1 1 0 0 1 1 0 1 0 0 1 1 0 1 1 0 0 1 1 1 1\n",
      " 1 0 0 0 0 1 0 0 1 1 0 1 0 1 1 0 0 1 1 0 1 0 1 1 0 1 1 1 1 0 1 0 1 1 0 1 1\n",
      " 1 1 1 1 1 0 1 1 0 1 0 0 1 1 0 1 1 1 1 1 1 1 1 1 0 1 0 1 1 1 1 1 0 1 1 0 1\n",
      " 0 1 0 0 1 1 1 1 0 1 1 1 0 1 1 1 1 0 1 1 1 0 0 1 1 0 1 1 1 0 0 0 1 1 1 1 0\n",
      " 1 1 1 0 1 1 1 1 0 1 1 1 1 0 1 1 1 1 0 0 1 1 1 1 0 1 1 1 1 0 1 1 0 1 1 1 0\n",
      " 1 0 1 1 1 0 1 0 1 0 0 1 1 0 0 1 1 1 1 1 0 1 1 0 1 1 0 1 1 1 0 0 1 0 1 1 1\n",
      " 1 1 1 1 1 1 1 0 0 1 1 0 1 0 1 0 1 1 0 0 1 1 1 1 0 0 1 1 1 0 1 1 0 0 0 0 0\n",
      " 0 1 1 1 1 0 1 1 1 0 0 1 1 0 1 0 0 0 1 1 0 1 1 1 1 1 1 1 1 1 0 0 0 1 0 1 1\n",
      " 1 0 1 0 0 1 1 0 1 1 0 0 1 0 0 0 0 1 1 0 0 1 0 0 1 1 0 0 1 0 1 0 0 0 0 1 1\n",
      " 1 0 1 1 0 1 1 1 0 1 1 1 0 0 0 1 1 1 1 1 1 1 1 0 0 0 0 1 1 0 1 1 1 0 0 0 0\n",
      " 1 1 1 1 0 0 0 1 1 1 0 0 1 0 1 1 1 0 1 0 1 1 1 0 0 1 0 1 1 0 1 1 0 1 0 1 1\n",
      " 1 1 0 1 1 0 1 1 0 0 0 1 0 1 1 1 0 1 1 0 0 1 1 1 0 0 1 1 0 0 0 1 1 0 1 1 0\n",
      " 1 1 0 1 0 1 1 1 1 1 1 1 1 0 0 1 1 1 1 1 1 1 1 1 1 0 1 1 0 0 0 1 1 1 1 0 1\n",
      " 1 1 0 1 0 0 1 1 1 1 1 1 1 1 1 0 1 0 1 1 0 0 0 0 1 0 1 1 1 1 1 1 0 1 1 0 1\n",
      " 0 1 0 1 1 0 1 1 0 1 1 1 0 1 1 0 0 0 1 0 1 0 0 0 0 1 1 1 0 1 1 1 1 1 1 1 0\n",
      " 1 0 1 0 0 1 1 1 1 0 1 1 0 1 1 1 0 1 0 1 1 0 0 0 1 0 0 1 1 1 0 1 1 1 1 1 0\n",
      " 1 0 1 1 0 1 1 1 0 1 1 1 1 1 1 1 0 0 0 1 0 1 1 0 1 0 0 1 1 1 1 1 1 1 1 0 1\n",
      " 1 1 1 1 1 0 0 1 1 0 1 1 0 0 1 0 1 1 1 1 0 1 0 1 0 0 1 1 0 1 1 1 1 1 1 1 1\n",
      " 1 1 1 0 0 1 1 1 1 1 1 0 0 1 0 1 1 1 1 1 1 1 1 0 1 0 1 1 1 1 1 0 1 1 0 1 0\n",
      " 1 1 1 0 1 0 1 0 1 1 1 1 1 0 0 1 1 0 1 1 1 1 1 0 0 1 0 0 1 1 1 1 1 0 1 1 1\n",
      " 1 1 0 1 1 1 1 0 1 1 0 1 1 1 0 1 1 1 1 0 1 1 1 0 1 0 1 0 1 1 1 1 0 1 0 1 1\n",
      " 0 1 0 0 0 1 1 1 1 0 1 1 1 1 1 0 1 1 1 0 0 1 0 1 0 1 1 1 1 1 0 1 0 1 1 1 0\n",
      " 1 1 0 1 1 1 0 1 1 0 1 1 1 1 1 0 0 1 1 1 1 0 1 1 1 1 1 1 0 1 1 1 1 1 1 0 1\n",
      " 1 0 0 0 0 0 1 0 1 1 1 0 0 1 0 0 1 1 1 1 0 1 1 0 0 1 1 1 0 0 1 0 1 1 0 1 0\n",
      " 0 1 1]\n"
     ]
    }
   ],
   "source": [
    "\n",
    "# fit the encoder to the data\n",
    "label_encoder.fit(data_select['Gender'])\n",
    "# transform the data\n",
    "encoded_data = label_encoder.transform(data_select['Gender'])\n",
    "\n",
    "print(encoded_data)"
   ]
  },
  {
   "cell_type": "code",
   "execution_count": 50,
   "id": "ba242796",
   "metadata": {},
   "outputs": [],
   "source": [
    "data_select['Gender'] = encoded_data"
   ]
  },
  {
   "cell_type": "code",
   "execution_count": 51,
   "id": "947f59df",
   "metadata": {},
   "outputs": [
    {
     "data": {
      "text/html": [
       "<div>\n",
       "<style scoped>\n",
       "    .dataframe tbody tr th:only-of-type {\n",
       "        vertical-align: middle;\n",
       "    }\n",
       "\n",
       "    .dataframe tbody tr th {\n",
       "        vertical-align: top;\n",
       "    }\n",
       "\n",
       "    .dataframe thead th {\n",
       "        text-align: right;\n",
       "    }\n",
       "</style>\n",
       "<table border=\"1\" class=\"dataframe\">\n",
       "  <thead>\n",
       "    <tr style=\"text-align: right;\">\n",
       "      <th></th>\n",
       "      <th>PassengerId</th>\n",
       "      <th>Pclass</th>\n",
       "      <th>Gender</th>\n",
       "      <th>Age</th>\n",
       "      <th>SibSp</th>\n",
       "      <th>Parch</th>\n",
       "      <th>Fare</th>\n",
       "      <th>Cabin</th>\n",
       "      <th>Embarked</th>\n",
       "      <th>Survived</th>\n",
       "    </tr>\n",
       "  </thead>\n",
       "  <tbody>\n",
       "    <tr>\n",
       "      <th>0</th>\n",
       "      <td>1</td>\n",
       "      <td>3</td>\n",
       "      <td>1</td>\n",
       "      <td>22.000000</td>\n",
       "      <td>1</td>\n",
       "      <td>0</td>\n",
       "      <td>7.2500</td>\n",
       "      <td>B96 B98</td>\n",
       "      <td>S</td>\n",
       "      <td>0</td>\n",
       "    </tr>\n",
       "    <tr>\n",
       "      <th>1</th>\n",
       "      <td>2</td>\n",
       "      <td>1</td>\n",
       "      <td>0</td>\n",
       "      <td>38.000000</td>\n",
       "      <td>1</td>\n",
       "      <td>0</td>\n",
       "      <td>71.2833</td>\n",
       "      <td>C85</td>\n",
       "      <td>C</td>\n",
       "      <td>1</td>\n",
       "    </tr>\n",
       "    <tr>\n",
       "      <th>2</th>\n",
       "      <td>3</td>\n",
       "      <td>3</td>\n",
       "      <td>0</td>\n",
       "      <td>26.000000</td>\n",
       "      <td>0</td>\n",
       "      <td>0</td>\n",
       "      <td>7.9250</td>\n",
       "      <td>B96 B98</td>\n",
       "      <td>S</td>\n",
       "      <td>1</td>\n",
       "    </tr>\n",
       "    <tr>\n",
       "      <th>3</th>\n",
       "      <td>4</td>\n",
       "      <td>1</td>\n",
       "      <td>0</td>\n",
       "      <td>35.000000</td>\n",
       "      <td>1</td>\n",
       "      <td>0</td>\n",
       "      <td>53.1000</td>\n",
       "      <td>C123</td>\n",
       "      <td>S</td>\n",
       "      <td>1</td>\n",
       "    </tr>\n",
       "    <tr>\n",
       "      <th>4</th>\n",
       "      <td>5</td>\n",
       "      <td>3</td>\n",
       "      <td>1</td>\n",
       "      <td>35.000000</td>\n",
       "      <td>0</td>\n",
       "      <td>0</td>\n",
       "      <td>8.0500</td>\n",
       "      <td>B96 B98</td>\n",
       "      <td>S</td>\n",
       "      <td>0</td>\n",
       "    </tr>\n",
       "    <tr>\n",
       "      <th>...</th>\n",
       "      <td>...</td>\n",
       "      <td>...</td>\n",
       "      <td>...</td>\n",
       "      <td>...</td>\n",
       "      <td>...</td>\n",
       "      <td>...</td>\n",
       "      <td>...</td>\n",
       "      <td>...</td>\n",
       "      <td>...</td>\n",
       "      <td>...</td>\n",
       "    </tr>\n",
       "    <tr>\n",
       "      <th>886</th>\n",
       "      <td>887</td>\n",
       "      <td>2</td>\n",
       "      <td>1</td>\n",
       "      <td>27.000000</td>\n",
       "      <td>0</td>\n",
       "      <td>0</td>\n",
       "      <td>13.0000</td>\n",
       "      <td>B96 B98</td>\n",
       "      <td>S</td>\n",
       "      <td>0</td>\n",
       "    </tr>\n",
       "    <tr>\n",
       "      <th>887</th>\n",
       "      <td>888</td>\n",
       "      <td>1</td>\n",
       "      <td>0</td>\n",
       "      <td>19.000000</td>\n",
       "      <td>0</td>\n",
       "      <td>0</td>\n",
       "      <td>30.0000</td>\n",
       "      <td>B42</td>\n",
       "      <td>S</td>\n",
       "      <td>1</td>\n",
       "    </tr>\n",
       "    <tr>\n",
       "      <th>888</th>\n",
       "      <td>889</td>\n",
       "      <td>3</td>\n",
       "      <td>0</td>\n",
       "      <td>29.699118</td>\n",
       "      <td>1</td>\n",
       "      <td>2</td>\n",
       "      <td>23.4500</td>\n",
       "      <td>B96 B98</td>\n",
       "      <td>S</td>\n",
       "      <td>0</td>\n",
       "    </tr>\n",
       "    <tr>\n",
       "      <th>889</th>\n",
       "      <td>890</td>\n",
       "      <td>1</td>\n",
       "      <td>1</td>\n",
       "      <td>26.000000</td>\n",
       "      <td>0</td>\n",
       "      <td>0</td>\n",
       "      <td>30.0000</td>\n",
       "      <td>C148</td>\n",
       "      <td>C</td>\n",
       "      <td>1</td>\n",
       "    </tr>\n",
       "    <tr>\n",
       "      <th>890</th>\n",
       "      <td>891</td>\n",
       "      <td>3</td>\n",
       "      <td>1</td>\n",
       "      <td>32.000000</td>\n",
       "      <td>0</td>\n",
       "      <td>0</td>\n",
       "      <td>7.7500</td>\n",
       "      <td>B96 B98</td>\n",
       "      <td>Q</td>\n",
       "      <td>0</td>\n",
       "    </tr>\n",
       "  </tbody>\n",
       "</table>\n",
       "<p>891 rows × 10 columns</p>\n",
       "</div>"
      ],
      "text/plain": [
       "     PassengerId  Pclass  Gender        Age  SibSp  Parch     Fare    Cabin  \\\n",
       "0              1       3       1  22.000000      1      0   7.2500  B96 B98   \n",
       "1              2       1       0  38.000000      1      0  71.2833      C85   \n",
       "2              3       3       0  26.000000      0      0   7.9250  B96 B98   \n",
       "3              4       1       0  35.000000      1      0  53.1000     C123   \n",
       "4              5       3       1  35.000000      0      0   8.0500  B96 B98   \n",
       "..           ...     ...     ...        ...    ...    ...      ...      ...   \n",
       "886          887       2       1  27.000000      0      0  13.0000  B96 B98   \n",
       "887          888       1       0  19.000000      0      0  30.0000      B42   \n",
       "888          889       3       0  29.699118      1      2  23.4500  B96 B98   \n",
       "889          890       1       1  26.000000      0      0  30.0000     C148   \n",
       "890          891       3       1  32.000000      0      0   7.7500  B96 B98   \n",
       "\n",
       "    Embarked  Survived  \n",
       "0          S         0  \n",
       "1          C         1  \n",
       "2          S         1  \n",
       "3          S         1  \n",
       "4          S         0  \n",
       "..       ...       ...  \n",
       "886        S         0  \n",
       "887        S         1  \n",
       "888        S         0  \n",
       "889        C         1  \n",
       "890        Q         0  \n",
       "\n",
       "[891 rows x 10 columns]"
      ]
     },
     "execution_count": 51,
     "metadata": {},
     "output_type": "execute_result"
    }
   ],
   "source": [
    "data_select"
   ]
  },
  {
   "cell_type": "code",
   "execution_count": 52,
   "id": "c16be08e",
   "metadata": {
    "collapsed": true
   },
   "outputs": [
    {
     "name": "stdout",
     "output_type": "stream",
     "text": [
      "[ 47  81  47  55  47  47 129  47  47  47 145  49  47  47  47  47  47  47\n",
      "  47  47  47 111  47  13  47  47  47  63  47  47  47  41  47  47  47  47\n",
      "  47  47  47  47  47  47  47  47  47  47  47  47  47  47  47  47 101  47\n",
      "  23  71  47  47  47  47  47  21  80  47  47  47 142  47  47  47  47  47\n",
      "  47  47  47 140  47  47  47  47  47  47  47  47  47  47  47  47  63  47\n",
      "  47  47 122  47  47  47  12  91  47  47  47  47  98  47  47  47  47  47\n",
      "  47  47  52  47  47  47  47  47  47  47  36  47  47  47  47 116  98  47\n",
      "  47  47 138  47  47  47  47  47  47  47 107  55  47  45  47  47  47  47\n",
      "  47  47  47  47 141  47  47  61  47  47  47  47  47  47  47  47  47  47\n",
      "  47  47  47  47 123  47  47  47  18  47  47  47  14  47  47  69  47  47\n",
      "  47  47  47 144  47   9  47  47  47  47  47  47  47 141  28  43  47  47\n",
      "  47  47  47  47  47  47  47 145  47  47  47   8  47  47  47  47  47 103\n",
      "  47  47  93  47  47  47  47  47  87  47  47  47  47  47  80  47  47  47\n",
      "  47  47  47  47  47  47  47  47  47  47  47  78  47  47 102  47  47 145\n",
      "  83  47  47  47  47  40  47  47  47  47 134  46  47  47  47  47  57  89\n",
      "  47  47  47  54  47 113  47  47  47  47  47  47  47  47   3  47  47  47\n",
      "  47  47  47  31  90  47  47  47  47  62  51  36  47  47  47 116  47  62\n",
      "  47  74  47 125  72  35  47  47  47  47  47  47  76 124  47  47  47  47\n",
      "  47  65  47  90  47  17  47  56  85  47  47  47  61 127  47 146 141  63\n",
      "  47  47  47 142  47  47  47  47  47  59  47  47  47  47 123  47  47  47\n",
      "  47  47  47  47  47  47 104  47  47  24 131  47  47  47  47  47  47  79\n",
      "  47  47  47  47  47  47  47  47  47  47  47  47  47  47  47 103 145  47\n",
      "  47  47  47  47  47  47  47  47  47  47  47  47  47  47  47  47  78  47\n",
      "  47  47  47  47  47  47  47  47  47  47  47  47  47  47  47 115  71  47\n",
      "  47  47 128  47  47  47  63  47  47  47  47  47  47  10  47  47  47  50\n",
      "  47  47  53  86  47  47 126  97  47  47 117  47 133  47  47  47  47  47\n",
      "  47  47  47  47  47  90  47   1  47  47  47  47  47  47  47  47  31  47\n",
      "  87  25  47  47  47  47  64  47  47  47  96  47  62  47  47  47  47  47\n",
      "  42  74  47  47  47  47  47  47 121  47  47 106 142  47  47  47  39  47\n",
      "  47  17  47  47  47  88  47  47  47  47  47  47  47  47  26  47  47  27\n",
      "  20  47  47  47  82  47  47  47  47  47  77  47  47  47  47  47   2  47\n",
      " 134  47  47  47  47  47  47  47  47  47  47  47  47  48 121  47  47  47\n",
      "  47 128  47  47  47  75  47   0  47 135  47  29  47  47  47  96  47  47\n",
      "  47  47  47  47  47   4  47  47  47  47  47  47  47  47  47  57  47  47\n",
      "  47  47  47  47  47  47 144  47  47  95  47  47  47 110  47 114  47  47\n",
      "   5  47  33  47  47  47  47  47  47  47  47  24  47  47  47 101  47   7\n",
      "  47  47  47  47  47  47  47  47  47  47  47 108  47  47 132  47  47  47\n",
      "  47  47  47  58  47  38  47  47  47  47  47  47  47  34  47 109  47  47\n",
      "  47  47  47  47  47  32  19  47  47  47  47  47  47  47  75 139  73 120\n",
      "  47  47  47  47  47 120  47  47  84  56  58  47  47 140  66 116  47  47\n",
      "  47  47  47  47 137  47  47  47  47  47  32  47  47  47  47  47  47  15\n",
      "  47  47 105  67  35  47  47  20  47  47 100  47  47 118  47  47  47  47\n",
      "  47  47  47  40  47  47  47  47  47  92  47  47  47  47  47  47 136  47\n",
      "  47  47 143  47  47  22  47  19 112  47  47  47  47  47  47  44  47  47\n",
      "  47  47  47  47  94  47  47  47  47  47  47  47  47  47  11  47  47 137\n",
      "  47  47  47  47  47  16  47  47  47  47  37  47  47 118  47  47  47  47\n",
      "  47  21  47  47  47  47  47 130  47  47  47  68  47  47  47  47  47  47\n",
      "  47  47  47  86  47  47  47  99  47  47  47 119  47  47  47  47  94  47\n",
      "  47  47  47   6  47  47  47 102  34  47  47  47  47  47  47  70  47  47\n",
      "  47  47  47  47  47  30  47  60  47]\n"
     ]
    }
   ],
   "source": [
    "# fit the encoder to the data\n",
    "label_encoder.fit(data_select['Cabin'])\n",
    "# transform the data\n",
    "cabin_data = label_encoder.transform(data_select['Cabin'])\n",
    "\n",
    "print(cabin_data)"
   ]
  },
  {
   "cell_type": "code",
   "execution_count": 53,
   "id": "24c08777",
   "metadata": {
    "collapsed": true
   },
   "outputs": [
    {
     "name": "stdout",
     "output_type": "stream",
     "text": [
      "[2 0 2 2 2 1 2 2 2 0 2 2 2 2 2 2 1 2 2 0 2 2 1 2 2 2 0 2 1 2 0 0 1 2 0 2 0\n",
      " 2 2 0 2 2 0 0 1 2 1 1 0 2 2 2 0 2 0 2 2 0 2 2 0 2 2 2 0 0 2 2 2 2 2 2 2 0\n",
      " 2 2 2 2 2 2 2 2 1 2 2 2 2 2 2 2 2 2 2 2 2 2 0 0 2 2 2 2 2 2 2 2 2 2 2 1 2\n",
      " 0 2 2 0 2 1 2 0 2 2 2 0 2 2 0 1 2 0 2 0 2 2 2 2 0 2 2 2 0 0 2 2 1 2 2 2 2\n",
      " 2 2 2 2 2 2 2 0 1 2 2 2 2 2 2 2 2 2 2 2 2 2 2 1 2 2 0 2 2 0 2 2 2 0 2 2 2\n",
      " 2 1 2 1 2 2 2 2 2 0 0 1 2 1 2 2 2 2 0 2 2 2 0 1 0 2 2 2 2 1 0 2 2 0 2 2 2\n",
      " 2 2 2 2 2 2 2 2 2 2 2 2 2 2 2 2 2 2 0 1 2 2 0 1 2 2 2 2 2 2 2 2 2 0 0 2 0\n",
      " 2 1 2 2 2 1 2 2 2 2 2 2 2 2 0 1 2 2 2 1 2 1 2 2 2 2 0 2 2 2 1 2 0 0 2 2 0\n",
      " 0 2 2 0 1 1 2 1 2 2 0 0 0 0 0 0 2 2 2 2 2 2 2 0 2 2 1 2 2 0 2 2 2 0 1 2 2\n",
      " 2 2 2 2 0 2 2 2 2 2 2 2 2 2 2 2 2 2 2 0 2 0 2 2 2 1 1 2 0 0 2 1 2 0 0 1 0\n",
      " 0 2 2 0 2 0 2 0 0 2 0 0 2 2 2 2 2 2 1 0 2 2 2 0 2 2 2 2 2 2 2 2 2 2 2 2 2\n",
      " 2 2 2 2 1 1 2 2 2 2 2 2 2 0 1 2 2 2 2 2 2 1 2 2 2 2 2 2 2 2 2 2 2 2 2 2 2\n",
      " 2 2 2 2 0 2 2 2 0 0 2 0 2 2 2 1 2 2 2 2 2 2 2 2 1 0 2 2 2 0 2 2 2 2 2 2 2\n",
      " 2 2 2 0 2 2 0 2 2 2 2 2 0 2 0 0 2 2 2 2 1 1 2 2 0 2 2 2 2 1 2 2 0 2 2 2 1\n",
      " 2 2 2 2 0 0 0 1 2 2 2 2 2 0 0 0 2 2 2 0 2 0 2 2 2 2 0 2 2 0 2 2 0 2 1 0 2\n",
      " 2 0 0 2 2 1 2 2 2 2 2 2 2 0 2 2 2 2 1 2 2 2 2 0 2 2 0 2 0 0 2 2 0 2 2 2 0\n",
      " 2 1 2 2 2 2 0 0 2 2 2 2 0 2 2 2 0 2 2 2 1 1 2 2 2 2 2 2 0 2 0 2 2 2 1 2 2\n",
      " 1 2 2 0 2 2 2 2 2 2 2 2 0 2 2 0 0 2 0 2 2 2 2 2 1 1 2 2 1 2 0 2 0 2 2 2 2\n",
      " 2 2 2 2 2 2 2 2 2 2 2 2 2 0 1 0 2 2 2 0 2 2 2 2 2 0 2 0 2 2 2 1 0 2 0 2 0\n",
      " 1 2 2 2 2 2 0 0 2 2 2 2 2 0 2 1 2 2 2 2 2 2 2 2 1 2 2 2 0 2 2 2 2 2 0 2 2\n",
      " 2 2 0 2 2 2 2 2 2 1 2 2 2 2 2 2 2 2 2 2 2 2 0 2 2 2 0 1 1 2 2 2 2 0 2 2 1\n",
      " 2 1 2 0 2 2 2 2 2 2 1 2 0 1 2 2 0 2 2 2 2 0 2 2 2 2 0 2 2 2 2 2 2 2 2 2 2\n",
      " 2 2 2 0 2 2 2 2 2 2 2 1 2 0 1 2 0 2 0 2 2 0 2 2 2 0 2 2 0 0 2 2 2 0 2 0 2\n",
      " 2 0 2 2 2 2 2 0 0 2 2 2 2 2 2 0 2 2 2 2 2 2 2 0 0 2 2 2 0 2 2 2 2 2 1 2 2\n",
      " 2 0 1]\n"
     ]
    }
   ],
   "source": [
    "# fit the encoder to the data\n",
    "label_encoder.fit(data_select['Embarked'])\n",
    "# transform the data\n",
    "embark_data = label_encoder.transform(data_select['Embarked'])\n",
    "\n",
    "print(embark_data)"
   ]
  },
  {
   "cell_type": "code",
   "execution_count": 54,
   "id": "1c345edc",
   "metadata": {},
   "outputs": [],
   "source": [
    "data_select['Cabin'] = cabin_data\n",
    "data_select['Embarked'] = embark_data"
   ]
  },
  {
   "cell_type": "code",
   "execution_count": 55,
   "id": "b28aa51e",
   "metadata": {},
   "outputs": [
    {
     "data": {
      "text/html": [
       "<div>\n",
       "<style scoped>\n",
       "    .dataframe tbody tr th:only-of-type {\n",
       "        vertical-align: middle;\n",
       "    }\n",
       "\n",
       "    .dataframe tbody tr th {\n",
       "        vertical-align: top;\n",
       "    }\n",
       "\n",
       "    .dataframe thead th {\n",
       "        text-align: right;\n",
       "    }\n",
       "</style>\n",
       "<table border=\"1\" class=\"dataframe\">\n",
       "  <thead>\n",
       "    <tr style=\"text-align: right;\">\n",
       "      <th></th>\n",
       "      <th>PassengerId</th>\n",
       "      <th>Pclass</th>\n",
       "      <th>Gender</th>\n",
       "      <th>Age</th>\n",
       "      <th>SibSp</th>\n",
       "      <th>Parch</th>\n",
       "      <th>Fare</th>\n",
       "      <th>Cabin</th>\n",
       "      <th>Embarked</th>\n",
       "      <th>Survived</th>\n",
       "    </tr>\n",
       "  </thead>\n",
       "  <tbody>\n",
       "    <tr>\n",
       "      <th>0</th>\n",
       "      <td>1</td>\n",
       "      <td>3</td>\n",
       "      <td>1</td>\n",
       "      <td>22.0</td>\n",
       "      <td>1</td>\n",
       "      <td>0</td>\n",
       "      <td>7.2500</td>\n",
       "      <td>47</td>\n",
       "      <td>2</td>\n",
       "      <td>0</td>\n",
       "    </tr>\n",
       "    <tr>\n",
       "      <th>1</th>\n",
       "      <td>2</td>\n",
       "      <td>1</td>\n",
       "      <td>0</td>\n",
       "      <td>38.0</td>\n",
       "      <td>1</td>\n",
       "      <td>0</td>\n",
       "      <td>71.2833</td>\n",
       "      <td>81</td>\n",
       "      <td>0</td>\n",
       "      <td>1</td>\n",
       "    </tr>\n",
       "    <tr>\n",
       "      <th>2</th>\n",
       "      <td>3</td>\n",
       "      <td>3</td>\n",
       "      <td>0</td>\n",
       "      <td>26.0</td>\n",
       "      <td>0</td>\n",
       "      <td>0</td>\n",
       "      <td>7.9250</td>\n",
       "      <td>47</td>\n",
       "      <td>2</td>\n",
       "      <td>1</td>\n",
       "    </tr>\n",
       "    <tr>\n",
       "      <th>3</th>\n",
       "      <td>4</td>\n",
       "      <td>1</td>\n",
       "      <td>0</td>\n",
       "      <td>35.0</td>\n",
       "      <td>1</td>\n",
       "      <td>0</td>\n",
       "      <td>53.1000</td>\n",
       "      <td>55</td>\n",
       "      <td>2</td>\n",
       "      <td>1</td>\n",
       "    </tr>\n",
       "    <tr>\n",
       "      <th>4</th>\n",
       "      <td>5</td>\n",
       "      <td>3</td>\n",
       "      <td>1</td>\n",
       "      <td>35.0</td>\n",
       "      <td>0</td>\n",
       "      <td>0</td>\n",
       "      <td>8.0500</td>\n",
       "      <td>47</td>\n",
       "      <td>2</td>\n",
       "      <td>0</td>\n",
       "    </tr>\n",
       "  </tbody>\n",
       "</table>\n",
       "</div>"
      ],
      "text/plain": [
       "   PassengerId  Pclass  Gender   Age  SibSp  Parch     Fare  Cabin  Embarked  \\\n",
       "0            1       3       1  22.0      1      0   7.2500     47         2   \n",
       "1            2       1       0  38.0      1      0  71.2833     81         0   \n",
       "2            3       3       0  26.0      0      0   7.9250     47         2   \n",
       "3            4       1       0  35.0      1      0  53.1000     55         2   \n",
       "4            5       3       1  35.0      0      0   8.0500     47         2   \n",
       "\n",
       "   Survived  \n",
       "0         0  \n",
       "1         1  \n",
       "2         1  \n",
       "3         1  \n",
       "4         0  "
      ]
     },
     "execution_count": 55,
     "metadata": {},
     "output_type": "execute_result"
    }
   ],
   "source": [
    "data_select.head()"
   ]
  },
  {
   "cell_type": "code",
   "execution_count": 57,
   "id": "567796cf",
   "metadata": {},
   "outputs": [
    {
     "data": {
      "image/png": "[encoded data removed]",
      "text/plain": [
       "<Figure size 2000x2500 with 9 Axes>"
      ]
     },
     "metadata": {},
     "output_type": "display_data"
    }
   ],
   "source": [
    "plt.figure(figsize=(20,25),facecolor='white')\n",
    "plotnumber=1\n",
    "\n",
    "for column in data_select:\n",
    "    if plotnumber<=9:\n",
    "        ax=plt.subplot(3,3,plotnumber)\n",
    "        sns.histplot(data_select[column])\n",
    "        plt.xlabel(column,fontsize=20)\n",
    "        plt.ylabel('Count',fontsize=20)\n",
    "    plotnumber+=1\n",
    "plt.tight_layout()"
   ]
  },
  {
   "cell_type": "code",
   "execution_count": 60,
   "id": "77c62113",
   "metadata": {
    "scrolled": true
   },
   "outputs": [
    {
     "data": {
      "text/html": [
       "<div>\n",
       "<style scoped>\n",
       "    .dataframe tbody tr th:only-of-type {\n",
       "        vertical-align: middle;\n",
       "    }\n",
       "\n",
       "    .dataframe tbody tr th {\n",
       "        vertical-align: top;\n",
       "    }\n",
       "\n",
       "    .dataframe thead th {\n",
       "        text-align: right;\n",
       "    }\n",
       "</style>\n",
       "<table border=\"1\" class=\"dataframe\">\n",
       "  <thead>\n",
       "    <tr style=\"text-align: right;\">\n",
       "      <th></th>\n",
       "      <th>count</th>\n",
       "      <th>mean</th>\n",
       "      <th>std</th>\n",
       "      <th>min</th>\n",
       "      <th>25%</th>\n",
       "      <th>50%</th>\n",
       "      <th>75%</th>\n",
       "      <th>max</th>\n",
       "    </tr>\n",
       "  </thead>\n",
       "  <tbody>\n",
       "    <tr>\n",
       "      <th>PassengerId</th>\n",
       "      <td>891.0</td>\n",
       "      <td>446.000000</td>\n",
       "      <td>257.353842</td>\n",
       "      <td>1.00</td>\n",
       "      <td>223.5000</td>\n",
       "      <td>446.000000</td>\n",
       "      <td>668.5</td>\n",
       "      <td>891.0000</td>\n",
       "    </tr>\n",
       "    <tr>\n",
       "      <th>Pclass</th>\n",
       "      <td>891.0</td>\n",
       "      <td>2.308642</td>\n",
       "      <td>0.836071</td>\n",
       "      <td>1.00</td>\n",
       "      <td>2.0000</td>\n",
       "      <td>3.000000</td>\n",
       "      <td>3.0</td>\n",
       "      <td>3.0000</td>\n",
       "    </tr>\n",
       "    <tr>\n",
       "      <th>Gender</th>\n",
       "      <td>891.0</td>\n",
       "      <td>0.647587</td>\n",
       "      <td>0.477990</td>\n",
       "      <td>0.00</td>\n",
       "      <td>0.0000</td>\n",
       "      <td>1.000000</td>\n",
       "      <td>1.0</td>\n",
       "      <td>1.0000</td>\n",
       "    </tr>\n",
       "    <tr>\n",
       "      <th>Age</th>\n",
       "      <td>891.0</td>\n",
       "      <td>29.699118</td>\n",
       "      <td>13.002015</td>\n",
       "      <td>0.42</td>\n",
       "      <td>22.0000</td>\n",
       "      <td>29.699118</td>\n",
       "      <td>35.0</td>\n",
       "      <td>80.0000</td>\n",
       "    </tr>\n",
       "    <tr>\n",
       "      <th>SibSp</th>\n",
       "      <td>891.0</td>\n",
       "      <td>0.523008</td>\n",
       "      <td>1.102743</td>\n",
       "      <td>0.00</td>\n",
       "      <td>0.0000</td>\n",
       "      <td>0.000000</td>\n",
       "      <td>1.0</td>\n",
       "      <td>8.0000</td>\n",
       "    </tr>\n",
       "    <tr>\n",
       "      <th>Parch</th>\n",
       "      <td>891.0</td>\n",
       "      <td>0.381594</td>\n",
       "      <td>0.806057</td>\n",
       "      <td>0.00</td>\n",
       "      <td>0.0000</td>\n",
       "      <td>0.000000</td>\n",
       "      <td>0.0</td>\n",
       "      <td>6.0000</td>\n",
       "    </tr>\n",
       "    <tr>\n",
       "      <th>Fare</th>\n",
       "      <td>891.0</td>\n",
       "      <td>32.204208</td>\n",
       "      <td>49.693429</td>\n",
       "      <td>0.00</td>\n",
       "      <td>7.9104</td>\n",
       "      <td>14.454200</td>\n",
       "      <td>31.0</td>\n",
       "      <td>512.3292</td>\n",
       "    </tr>\n",
       "    <tr>\n",
       "      <th>Cabin</th>\n",
       "      <td>891.0</td>\n",
       "      <td>53.639731</td>\n",
       "      <td>23.568293</td>\n",
       "      <td>0.00</td>\n",
       "      <td>47.0000</td>\n",
       "      <td>47.000000</td>\n",
       "      <td>47.0</td>\n",
       "      <td>146.0000</td>\n",
       "    </tr>\n",
       "    <tr>\n",
       "      <th>Embarked</th>\n",
       "      <td>891.0</td>\n",
       "      <td>1.536476</td>\n",
       "      <td>0.791503</td>\n",
       "      <td>0.00</td>\n",
       "      <td>1.0000</td>\n",
       "      <td>2.000000</td>\n",
       "      <td>2.0</td>\n",
       "      <td>2.0000</td>\n",
       "    </tr>\n",
       "    <tr>\n",
       "      <th>Survived</th>\n",
       "      <td>891.0</td>\n",
       "      <td>0.383838</td>\n",
       "      <td>0.486592</td>\n",
       "      <td>0.00</td>\n",
       "      <td>0.0000</td>\n",
       "      <td>0.000000</td>\n",
       "      <td>1.0</td>\n",
       "      <td>1.0000</td>\n",
       "    </tr>\n",
       "  </tbody>\n",
       "</table>\n",
       "</div>"
      ],
      "text/plain": [
       "             count        mean         std   min       25%         50%    75%  \\\n",
       "PassengerId  891.0  446.000000  257.353842  1.00  223.5000  446.000000  668.5   \n",
       "Pclass       891.0    2.308642    0.836071  1.00    2.0000    3.000000    3.0   \n",
       "Gender       891.0    0.647587    0.477990  0.00    0.0000    1.000000    1.0   \n",
       "Age          891.0   29.699118   13.002015  0.42   22.0000   29.699118   35.0   \n",
       "SibSp        891.0    0.523008    1.102743  0.00    0.0000    0.000000    1.0   \n",
       "Parch        891.0    0.381594    0.806057  0.00    0.0000    0.000000    0.0   \n",
       "Fare         891.0   32.204208   49.693429  0.00    7.9104   14.454200   31.0   \n",
       "Cabin        891.0   53.639731   23.568293  0.00   47.0000   47.000000   47.0   \n",
       "Embarked     891.0    1.536476    0.791503  0.00    1.0000    2.000000    2.0   \n",
       "Survived     891.0    0.383838    0.486592  0.00    0.0000    0.000000    1.0   \n",
       "\n",
       "                  max  \n",
       "PassengerId  891.0000  \n",
       "Pclass         3.0000  \n",
       "Gender         1.0000  \n",
       "Age           80.0000  \n",
       "SibSp          8.0000  \n",
       "Parch          6.0000  \n",
       "Fare         512.3292  \n",
       "Cabin        146.0000  \n",
       "Embarked       2.0000  \n",
       "Survived       1.0000  "
      ]
     },
     "execution_count": 60,
     "metadata": {},
     "output_type": "execute_result"
    }
   ],
   "source": [
    "data_select.describe().T"
   ]
  },
  {
   "cell_type": "code",
   "execution_count": 61,
   "id": "559fe277",
   "metadata": {},
   "outputs": [
    {
     "data": {
      "image/png": "[encoded data removed]",
      "text/plain": [
       "<Figure size 2000x2500 with 9 Axes>"
      ]
     },
     "metadata": {},
     "output_type": "display_data"
    }
   ],
   "source": [
    "import warnings\n",
    "warnings.filterwarnings(\"ignore\")\n",
    "\n",
    "## Step 4:-Checking the outliers\n",
    "plt.figure(figsize=(20,25),facecolor='white')\n",
    "plotnumber=1\n",
    "\n",
    "for column in data_select:\n",
    "    if plotnumber<=9:\n",
    "        ax=plt.subplot(3,3,plotnumber)\n",
    "        sns.boxplot(data_select[column])\n",
    "        plt.xlabel(column,fontsize=20)\n",
    "        plt.ylabel('Count',fontsize=20)\n",
    "    plotnumber+=1\n",
    "plt.tight_layout()"
   ]
  },
  {
   "cell_type": "markdown",
   "id": "43a3133f",
   "metadata": {},
   "source": [
    "there are outliers in SibSp and Fare"
   ]
  },
  {
   "cell_type": "code",
   "execution_count": 63,
   "id": "e6a4caa5",
   "metadata": {},
   "outputs": [],
   "source": [
    "## Step 1 Creating independent and dependent variable.\n",
    "\n",
    "X=data_select.iloc[:,:-1]\n",
    "y=data_select.Survived"
   ]
  },
  {
   "cell_type": "code",
   "execution_count": 64,
   "id": "4b7559b7",
   "metadata": {},
   "outputs": [
    {
     "data": {
      "text/html": [
       "<div>\n",
       "<style scoped>\n",
       "    .dataframe tbody tr th:only-of-type {\n",
       "        vertical-align: middle;\n",
       "    }\n",
       "\n",
       "    .dataframe tbody tr th {\n",
       "        vertical-align: top;\n",
       "    }\n",
       "\n",
       "    .dataframe thead th {\n",
       "        text-align: right;\n",
       "    }\n",
       "</style>\n",
       "<table border=\"1\" class=\"dataframe\">\n",
       "  <thead>\n",
       "    <tr style=\"text-align: right;\">\n",
       "      <th></th>\n",
       "      <th>PassengerId</th>\n",
       "      <th>Pclass</th>\n",
       "      <th>Gender</th>\n",
       "      <th>Age</th>\n",
       "      <th>SibSp</th>\n",
       "      <th>Parch</th>\n",
       "      <th>Fare</th>\n",
       "      <th>Cabin</th>\n",
       "      <th>Embarked</th>\n",
       "    </tr>\n",
       "  </thead>\n",
       "  <tbody>\n",
       "    <tr>\n",
       "      <th>0</th>\n",
       "      <td>1</td>\n",
       "      <td>3</td>\n",
       "      <td>1</td>\n",
       "      <td>22.000000</td>\n",
       "      <td>1</td>\n",
       "      <td>0</td>\n",
       "      <td>7.2500</td>\n",
       "      <td>47</td>\n",
       "      <td>2</td>\n",
       "    </tr>\n",
       "    <tr>\n",
       "      <th>1</th>\n",
       "      <td>2</td>\n",
       "      <td>1</td>\n",
       "      <td>0</td>\n",
       "      <td>38.000000</td>\n",
       "      <td>1</td>\n",
       "      <td>0</td>\n",
       "      <td>71.2833</td>\n",
       "      <td>81</td>\n",
       "      <td>0</td>\n",
       "    </tr>\n",
       "    <tr>\n",
       "      <th>2</th>\n",
       "      <td>3</td>\n",
       "      <td>3</td>\n",
       "      <td>0</td>\n",
       "      <td>26.000000</td>\n",
       "      <td>0</td>\n",
       "      <td>0</td>\n",
       "      <td>7.9250</td>\n",
       "      <td>47</td>\n",
       "      <td>2</td>\n",
       "    </tr>\n",
       "    <tr>\n",
       "      <th>3</th>\n",
       "      <td>4</td>\n",
       "      <td>1</td>\n",
       "      <td>0</td>\n",
       "      <td>35.000000</td>\n",
       "      <td>1</td>\n",
       "      <td>0</td>\n",
       "      <td>53.1000</td>\n",
       "      <td>55</td>\n",
       "      <td>2</td>\n",
       "    </tr>\n",
       "    <tr>\n",
       "      <th>4</th>\n",
       "      <td>5</td>\n",
       "      <td>3</td>\n",
       "      <td>1</td>\n",
       "      <td>35.000000</td>\n",
       "      <td>0</td>\n",
       "      <td>0</td>\n",
       "      <td>8.0500</td>\n",
       "      <td>47</td>\n",
       "      <td>2</td>\n",
       "    </tr>\n",
       "    <tr>\n",
       "      <th>...</th>\n",
       "      <td>...</td>\n",
       "      <td>...</td>\n",
       "      <td>...</td>\n",
       "      <td>...</td>\n",
       "      <td>...</td>\n",
       "      <td>...</td>\n",
       "      <td>...</td>\n",
       "      <td>...</td>\n",
       "      <td>...</td>\n",
       "    </tr>\n",
       "    <tr>\n",
       "      <th>886</th>\n",
       "      <td>887</td>\n",
       "      <td>2</td>\n",
       "      <td>1</td>\n",
       "      <td>27.000000</td>\n",
       "      <td>0</td>\n",
       "      <td>0</td>\n",
       "      <td>13.0000</td>\n",
       "      <td>47</td>\n",
       "      <td>2</td>\n",
       "    </tr>\n",
       "    <tr>\n",
       "      <th>887</th>\n",
       "      <td>888</td>\n",
       "      <td>1</td>\n",
       "      <td>0</td>\n",
       "      <td>19.000000</td>\n",
       "      <td>0</td>\n",
       "      <td>0</td>\n",
       "      <td>30.0000</td>\n",
       "      <td>30</td>\n",
       "      <td>2</td>\n",
       "    </tr>\n",
       "    <tr>\n",
       "      <th>888</th>\n",
       "      <td>889</td>\n",
       "      <td>3</td>\n",
       "      <td>0</td>\n",
       "      <td>29.699118</td>\n",
       "      <td>1</td>\n",
       "      <td>2</td>\n",
       "      <td>23.4500</td>\n",
       "      <td>47</td>\n",
       "      <td>2</td>\n",
       "    </tr>\n",
       "    <tr>\n",
       "      <th>889</th>\n",
       "      <td>890</td>\n",
       "      <td>1</td>\n",
       "      <td>1</td>\n",
       "      <td>26.000000</td>\n",
       "      <td>0</td>\n",
       "      <td>0</td>\n",
       "      <td>30.0000</td>\n",
       "      <td>60</td>\n",
       "      <td>0</td>\n",
       "    </tr>\n",
       "    <tr>\n",
       "      <th>890</th>\n",
       "      <td>891</td>\n",
       "      <td>3</td>\n",
       "      <td>1</td>\n",
       "      <td>32.000000</td>\n",
       "      <td>0</td>\n",
       "      <td>0</td>\n",
       "      <td>7.7500</td>\n",
       "      <td>47</td>\n",
       "      <td>1</td>\n",
       "    </tr>\n",
       "  </tbody>\n",
       "</table>\n",
       "<p>891 rows × 9 columns</p>\n",
       "</div>"
      ],
      "text/plain": [
       "     PassengerId  Pclass  Gender        Age  SibSp  Parch     Fare  Cabin  \\\n",
       "0              1       3       1  22.000000      1      0   7.2500     47   \n",
       "1              2       1       0  38.000000      1      0  71.2833     81   \n",
       "2              3       3       0  26.000000      0      0   7.9250     47   \n",
       "3              4       1       0  35.000000      1      0  53.1000     55   \n",
       "4              5       3       1  35.000000      0      0   8.0500     47   \n",
       "..           ...     ...     ...        ...    ...    ...      ...    ...   \n",
       "886          887       2       1  27.000000      0      0  13.0000     47   \n",
       "887          888       1       0  19.000000      0      0  30.0000     30   \n",
       "888          889       3       0  29.699118      1      2  23.4500     47   \n",
       "889          890       1       1  26.000000      0      0  30.0000     60   \n",
       "890          891       3       1  32.000000      0      0   7.7500     47   \n",
       "\n",
       "     Embarked  \n",
       "0           2  \n",
       "1           0  \n",
       "2           2  \n",
       "3           2  \n",
       "4           2  \n",
       "..        ...  \n",
       "886         2  \n",
       "887         2  \n",
       "888         2  \n",
       "889         0  \n",
       "890         1  \n",
       "\n",
       "[891 rows x 9 columns]"
      ]
     },
     "execution_count": 64,
     "metadata": {},
     "output_type": "execute_result"
    }
   ],
   "source": [
    "X"
   ]
  },
  {
   "cell_type": "code",
   "execution_count": 65,
   "id": "6888fd0c",
   "metadata": {},
   "outputs": [
    {
     "data": {
      "text/plain": [
       "0      0\n",
       "1      1\n",
       "2      1\n",
       "3      1\n",
       "4      0\n",
       "      ..\n",
       "886    0\n",
       "887    1\n",
       "888    0\n",
       "889    1\n",
       "890    0\n",
       "Name: Survived, Length: 891, dtype: int64"
      ]
     },
     "execution_count": 65,
     "metadata": {},
     "output_type": "execute_result"
    }
   ],
   "source": [
    "y"
   ]
  },
  {
   "cell_type": "code",
   "execution_count": 66,
   "id": "c1851fec",
   "metadata": {},
   "outputs": [],
   "source": [
    "## Step 2 Creating training and testing data. the popose of slitng is for evalution\n",
    "from sklearn.model_selection import train_test_split\n",
    "X_train,X_test,y_train,y_test=train_test_split(X,y,test_size=0.3,random_state=45)"
   ]
  },
  {
   "cell_type": "code",
   "execution_count": 67,
   "id": "811f54cc",
   "metadata": {},
   "outputs": [
    {
     "data": {
      "text/plain": [
       "(268,)"
      ]
     },
     "execution_count": 67,
     "metadata": {},
     "output_type": "execute_result"
    }
   ],
   "source": [
    "y_test.shape"
   ]
  },
  {
   "cell_type": "code",
   "execution_count": 68,
   "id": "0357f63f",
   "metadata": {},
   "outputs": [
    {
     "data": {
      "text/plain": [
       "LogisticRegression()"
      ]
     },
     "execution_count": 68,
     "metadata": {},
     "output_type": "execute_result"
    }
   ],
   "source": [
    "## Step 3 Model creation\n",
    "from sklearn.linear_model import LogisticRegression\n",
    "clf=LogisticRegression()\n",
    "\n",
    "clf.fit(X_train,y_train)  ## training"
   ]
  },
  {
   "cell_type": "code",
   "execution_count": 69,
   "id": "c7b6407a",
   "metadata": {},
   "outputs": [],
   "source": [
    "## Step 4 Prediction\n",
    "y_pred=clf.predict(X_test)"
   ]
  },
  {
   "cell_type": "code",
   "execution_count": 70,
   "id": "b990d56d",
   "metadata": {},
   "outputs": [
    {
     "data": {
      "text/plain": [
       "array([0, 0, 1, 0, 1, 1, 0, 0, 0, 0, 0, 0, 0, 1, 0, 0, 0, 0, 1, 1, 0, 0,\n",
       "       0, 1, 1, 0, 0, 0, 0, 0, 0, 0, 0, 0, 0, 0, 1, 1, 0, 1, 1, 0, 0, 0,\n",
       "       0, 0, 1, 0, 1, 0, 1, 0, 1, 1, 0, 0, 1, 1, 1, 0, 0, 0, 0, 0, 0, 1,\n",
       "       0, 0, 0, 0, 0, 0, 0, 0, 0, 0, 0, 0, 1, 1, 0, 1, 0, 0, 0, 1, 1, 0,\n",
       "       1, 1, 0, 0, 0, 0, 0, 0, 0, 1, 0, 0, 0, 1, 0, 1, 0, 0, 0, 1, 1, 0,\n",
       "       0, 0, 1, 1, 0, 1, 0, 0, 0, 0, 1, 0, 1, 0, 1, 1, 1, 1, 0, 0, 1, 1,\n",
       "       1, 1, 0, 0, 1, 0, 1, 1, 0, 1, 0, 1, 0, 1, 1, 1, 0, 0, 1, 1, 1, 0,\n",
       "       0, 1, 0, 1, 1, 1, 0, 1, 1, 1, 0, 0, 1, 0, 0, 0, 0, 0, 0, 1, 0, 1,\n",
       "       0, 1, 0, 1, 0, 1, 1, 0, 1, 0, 1, 0, 1, 0, 0, 1, 0, 1, 1, 1, 0, 1,\n",
       "       1, 0, 0, 0, 0, 1, 1, 0, 0, 0, 0, 1, 0, 1, 0, 0, 0, 0, 0, 0, 1, 1,\n",
       "       1, 0, 0, 0, 1, 1, 1, 0, 0, 0, 0, 0, 0, 0, 1, 0, 0, 0, 0, 0, 0, 0,\n",
       "       1, 1, 0, 1, 0, 0, 0, 0, 1, 1, 1, 1, 0, 0, 0, 1, 1, 0, 0, 0, 1, 0,\n",
       "       0, 0, 1, 1])"
      ]
     },
     "execution_count": 70,
     "metadata": {},
     "output_type": "execute_result"
    }
   ],
   "source": [
    "y_pred"
   ]
  },
  {
   "cell_type": "code",
   "execution_count": 71,
   "id": "51fe908d",
   "metadata": {},
   "outputs": [],
   "source": [
    "y_pred_prob=clf.predict_proba(X_test)"
   ]
  },
  {
   "cell_type": "code",
   "execution_count": 72,
   "id": "f36f4e22",
   "metadata": {},
   "outputs": [
    {
     "data": {
      "text/plain": [
       "array([[0.56787849, 0.43212151],\n",
       "       [0.90892149, 0.09107851],\n",
       "       [0.32636341, 0.67363659],\n",
       "       [0.78509577, 0.21490423],\n",
       "       [0.4861753 , 0.5138247 ],\n",
       "       [0.05275856, 0.94724144],\n",
       "       [0.8686943 , 0.1313057 ],\n",
       "       [0.84572393, 0.15427607],\n",
       "       [0.88008019, 0.11991981],\n",
       "       [0.87318951, 0.12681049],\n",
       "       [0.80664317, 0.19335683],\n",
       "       [0.80653158, 0.19346842],\n",
       "       [0.84725391, 0.15274609],\n",
       "       [0.27587604, 0.72412396],\n",
       "       [0.83398647, 0.16601353],\n",
       "       [0.85813074, 0.14186926],\n",
       "       [0.8504748 , 0.1495252 ],\n",
       "       [0.83478113, 0.16521887],\n",
       "       [0.35538867, 0.64461133],\n",
       "       [0.40052348, 0.59947652],\n",
       "       [0.85701133, 0.14298867],\n",
       "       [0.86427822, 0.13572178],\n",
       "       [0.79019423, 0.20980577],\n",
       "       [0.11496409, 0.88503591],\n",
       "       [0.33680338, 0.66319662],\n",
       "       [0.73136688, 0.26863312],\n",
       "       [0.80887333, 0.19112667],\n",
       "       [0.85996589, 0.14003411],\n",
       "       [0.84738265, 0.15261735],\n",
       "       [0.83029924, 0.16970076],\n",
       "       [0.88137051, 0.11862949],\n",
       "       [0.85155269, 0.14844731],\n",
       "       [0.74409941, 0.25590059],\n",
       "       [0.81696855, 0.18303145],\n",
       "       [0.61695945, 0.38304055],\n",
       "       [0.87060729, 0.12939271],\n",
       "       [0.3719601 , 0.6280399 ],\n",
       "       [0.09870459, 0.90129541],\n",
       "       [0.89886649, 0.10113351],\n",
       "       [0.03884553, 0.96115447],\n",
       "       [0.35361528, 0.64638472],\n",
       "       [0.84208132, 0.15791868],\n",
       "       [0.83478634, 0.16521366],\n",
       "       [0.86401622, 0.13598378],\n",
       "       [0.82864458, 0.17135542],\n",
       "       [0.53552202, 0.46447798],\n",
       "       [0.28277558, 0.71722442],\n",
       "       [0.88099101, 0.11900899],\n",
       "       [0.12964034, 0.87035966],\n",
       "       [0.88198343, 0.11801657],\n",
       "       [0.38106687, 0.61893313],\n",
       "       [0.86435257, 0.13564743],\n",
       "       [0.19924189, 0.80075811],\n",
       "       [0.28578584, 0.71421416],\n",
       "       [0.85671943, 0.14328057],\n",
       "       [0.89090735, 0.10909265],\n",
       "       [0.10337655, 0.89662345],\n",
       "       [0.21551515, 0.78448485],\n",
       "       [0.29210081, 0.70789919],\n",
       "       [0.88539848, 0.11460152],\n",
       "       [0.90978568, 0.09021432],\n",
       "       [0.50030714, 0.49969286],\n",
       "       [0.90449215, 0.09550785],\n",
       "       [0.86501819, 0.13498181],\n",
       "       [0.86992836, 0.13007164],\n",
       "       [0.0381894 , 0.9618106 ],\n",
       "       [0.87813444, 0.12186556],\n",
       "       [0.79997187, 0.20002813],\n",
       "       [0.91003098, 0.08996902],\n",
       "       [0.87437168, 0.12562832],\n",
       "       [0.87631602, 0.12368398],\n",
       "       [0.94035665, 0.05964335],\n",
       "       [0.92063028, 0.07936972],\n",
       "       [0.85194985, 0.14805015],\n",
       "       [0.9364114 , 0.0635886 ],\n",
       "       [0.85779906, 0.14220094],\n",
       "       [0.85892871, 0.14107129],\n",
       "       [0.81060115, 0.18939885],\n",
       "       [0.23905547, 0.76094453],\n",
       "       [0.43620632, 0.56379368],\n",
       "       [0.79258712, 0.20741288],\n",
       "       [0.39821037, 0.60178963],\n",
       "       [0.87135335, 0.12864665],\n",
       "       [0.88909649, 0.11090351],\n",
       "       [0.86621635, 0.13378365],\n",
       "       [0.02438316, 0.97561684],\n",
       "       [0.37645925, 0.62354075],\n",
       "       [0.91885389, 0.08114611],\n",
       "       [0.12995902, 0.87004098],\n",
       "       [0.36373569, 0.63626431],\n",
       "       [0.82750189, 0.17249811],\n",
       "       [0.8931987 , 0.1068013 ],\n",
       "       [0.72437503, 0.27562497],\n",
       "       [0.85958181, 0.14041819],\n",
       "       [0.55793387, 0.44206613],\n",
       "       [0.85239588, 0.14760412],\n",
       "       [0.60808348, 0.39191652],\n",
       "       [0.4158982 , 0.5841018 ],\n",
       "       [0.79110743, 0.20889257],\n",
       "       [0.86485847, 0.13514153],\n",
       "       [0.80165514, 0.19834486],\n",
       "       [0.28755695, 0.71244305],\n",
       "       [0.8881889 , 0.1118111 ],\n",
       "       [0.0427684 , 0.9572316 ],\n",
       "       [0.82140804, 0.17859196],\n",
       "       [0.81002488, 0.18997512],\n",
       "       [0.90797866, 0.09202134],\n",
       "       [0.28535665, 0.71464335],\n",
       "       [0.33335422, 0.66664578],\n",
       "       [0.83384208, 0.16615792],\n",
       "       [0.7506336 , 0.2493664 ],\n",
       "       [0.81026965, 0.18973035],\n",
       "       [0.42907041, 0.57092959],\n",
       "       [0.17286235, 0.82713765],\n",
       "       [0.8719145 , 0.1280855 ],\n",
       "       [0.07495404, 0.92504596],\n",
       "       [0.8010615 , 0.1989385 ],\n",
       "       [0.87669255, 0.12330745],\n",
       "       [0.84059889, 0.15940111],\n",
       "       [0.84963415, 0.15036585],\n",
       "       [0.23235983, 0.76764017],\n",
       "       [0.82775768, 0.17224232],\n",
       "       [0.1730389 , 0.8269611 ],\n",
       "       [0.63512241, 0.36487759],\n",
       "       [0.26413136, 0.73586864],\n",
       "       [0.39052403, 0.60947597],\n",
       "       [0.14137167, 0.85862833],\n",
       "       [0.44639388, 0.55360612],\n",
       "       [0.83448795, 0.16551205],\n",
       "       [0.90452313, 0.09547687],\n",
       "       [0.14322869, 0.85677131],\n",
       "       [0.01754065, 0.98245935],\n",
       "       [0.27350098, 0.72649902],\n",
       "       [0.07696203, 0.92303797],\n",
       "       [0.8397896 , 0.1602104 ],\n",
       "       [0.81783127, 0.18216873],\n",
       "       [0.37758952, 0.62241048],\n",
       "       [0.85725683, 0.14274317],\n",
       "       [0.32798116, 0.67201884],\n",
       "       [0.26840249, 0.73159751],\n",
       "       [0.85464324, 0.14535676],\n",
       "       [0.30854769, 0.69145231],\n",
       "       [0.85878995, 0.14121005],\n",
       "       [0.14406897, 0.85593103],\n",
       "       [0.83838927, 0.16161073],\n",
       "       [0.29366382, 0.70633618],\n",
       "       [0.30904073, 0.69095927],\n",
       "       [0.02270996, 0.97729004],\n",
       "       [0.87959438, 0.12040562],\n",
       "       [0.89997535, 0.10002465],\n",
       "       [0.29619661, 0.70380339],\n",
       "       [0.39652321, 0.60347679],\n",
       "       [0.34055058, 0.65944942],\n",
       "       [0.85820388, 0.14179612],\n",
       "       [0.87664147, 0.12335853],\n",
       "       [0.03564895, 0.96435105],\n",
       "       [0.86358183, 0.13641817],\n",
       "       [0.42217463, 0.57782537],\n",
       "       [0.45127517, 0.54872483],\n",
       "       [0.38468746, 0.61531254],\n",
       "       [0.88016604, 0.11983396],\n",
       "       [0.28072533, 0.71927467],\n",
       "       [0.3611162 , 0.6388838 ],\n",
       "       [0.38630899, 0.61369101],\n",
       "       [0.87474093, 0.12525907],\n",
       "       [0.94780017, 0.05219983],\n",
       "       [0.23824962, 0.76175038],\n",
       "       [0.85442179, 0.14557821],\n",
       "       [0.88353193, 0.11646807],\n",
       "       [0.66172596, 0.33827404],\n",
       "       [0.81725984, 0.18274016],\n",
       "       [0.76290354, 0.23709646],\n",
       "       [0.90222499, 0.09777501],\n",
       "       [0.01297609, 0.98702391],\n",
       "       [0.75718203, 0.24281797],\n",
       "       [0.46649151, 0.53350849],\n",
       "       [0.82326171, 0.17673829],\n",
       "       [0.21701369, 0.78298631],\n",
       "       [0.86743172, 0.13256828],\n",
       "       [0.28804716, 0.71195284],\n",
       "       [0.86170075, 0.13829925],\n",
       "       [0.38651777, 0.61348223],\n",
       "       [0.35145976, 0.64854024],\n",
       "       [0.84360136, 0.15639864],\n",
       "       [0.1133642 , 0.8866358 ],\n",
       "       [0.85925768, 0.14074232],\n",
       "       [0.31137173, 0.68862827],\n",
       "       [0.88346853, 0.11653147],\n",
       "       [0.34465926, 0.65534074],\n",
       "       [0.8717799 , 0.1282201 ],\n",
       "       [0.78874698, 0.21125302],\n",
       "       [0.35463345, 0.64536655],\n",
       "       [0.76157658, 0.23842342],\n",
       "       [0.32408982, 0.67591018],\n",
       "       [0.36744992, 0.63255008],\n",
       "       [0.06201454, 0.93798546],\n",
       "       [0.856442  , 0.143558  ],\n",
       "       [0.36793922, 0.63206078],\n",
       "       [0.38192742, 0.61807258],\n",
       "       [0.89751249, 0.10248751],\n",
       "       [0.50175688, 0.49824312],\n",
       "       [0.85932841, 0.14067159],\n",
       "       [0.84531923, 0.15468077],\n",
       "       [0.37735261, 0.62264739],\n",
       "       [0.49845086, 0.50154914],\n",
       "       [0.79793528, 0.20206472],\n",
       "       [0.86944447, 0.13055553],\n",
       "       [0.72098698, 0.27901302],\n",
       "       [0.8084789 , 0.1915211 ],\n",
       "       [0.36146706, 0.63853294],\n",
       "       [0.7345084 , 0.2654916 ],\n",
       "       [0.39290302, 0.60709698],\n",
       "       [0.834941  , 0.165059  ],\n",
       "       [0.79480572, 0.20519428],\n",
       "       [0.87020736, 0.12979264],\n",
       "       [0.80739719, 0.19260281],\n",
       "       [0.81016775, 0.18983225],\n",
       "       [0.86374706, 0.13625294],\n",
       "       [0.31430228, 0.68569772],\n",
       "       [0.41456851, 0.58543149],\n",
       "       [0.32879741, 0.67120259],\n",
       "       [0.78847998, 0.21152002],\n",
       "       [0.92133755, 0.07866245],\n",
       "       [0.85348967, 0.14651033],\n",
       "       [0.0911268 , 0.9088732 ],\n",
       "       [0.46099635, 0.53900365],\n",
       "       [0.29977494, 0.70022506],\n",
       "       [0.68924724, 0.31075276],\n",
       "       [0.77081468, 0.22918532],\n",
       "       [0.81803227, 0.18196773],\n",
       "       [0.88999726, 0.11000274],\n",
       "       [0.83537821, 0.16462179],\n",
       "       [0.84645058, 0.15354942],\n",
       "       [0.7911216 , 0.2088784 ],\n",
       "       [0.02744375, 0.97255625],\n",
       "       [0.88588904, 0.11411096],\n",
       "       [0.90846602, 0.09153398],\n",
       "       [0.89054248, 0.10945752],\n",
       "       [0.86220009, 0.13779991],\n",
       "       [0.86445866, 0.13554134],\n",
       "       [0.785764  , 0.214236  ],\n",
       "       [0.79078805, 0.20921195],\n",
       "       [0.30700767, 0.69299233],\n",
       "       [0.2504204 , 0.7495796 ],\n",
       "       [0.86248417, 0.13751583],\n",
       "       [0.31142385, 0.68857615],\n",
       "       [0.5314375 , 0.4685625 ],\n",
       "       [0.81803487, 0.18196513],\n",
       "       [0.80779601, 0.19220399],\n",
       "       [0.95248514, 0.04751486],\n",
       "       [0.45450171, 0.54549829],\n",
       "       [0.06608714, 0.93391286],\n",
       "       [0.38349361, 0.61650639],\n",
       "       [0.35448771, 0.64551229],\n",
       "       [0.86519832, 0.13480168],\n",
       "       [0.91451218, 0.08548782],\n",
       "       [0.87495298, 0.12504702],\n",
       "       [0.05575809, 0.94424191],\n",
       "       [0.02300072, 0.97699928],\n",
       "       [0.86777411, 0.13222589],\n",
       "       [0.84088085, 0.15911915],\n",
       "       [0.89391013, 0.10608987],\n",
       "       [0.38838409, 0.61161591],\n",
       "       [0.85505339, 0.14494661],\n",
       "       [0.84374192, 0.15625808],\n",
       "       [0.82897623, 0.17102377],\n",
       "       [0.39744503, 0.60255497],\n",
       "       [0.47285921, 0.52714079]])"
      ]
     },
     "execution_count": 72,
     "metadata": {},
     "output_type": "execute_result"
    }
   ],
   "source": [
    "y_pred_prob"
   ]
  },
  {
   "cell_type": "code",
   "execution_count": 73,
   "id": "fb1a31ba",
   "metadata": {},
   "outputs": [
    {
     "data": {
      "text/plain": [
       "0    549\n",
       "1    342\n",
       "Name: Survived, dtype: int64"
      ]
     },
     "execution_count": 73,
     "metadata": {},
     "output_type": "execute_result"
    }
   ],
   "source": [
    "data.Survived.value_counts()"
   ]
  },
  {
   "cell_type": "code",
   "execution_count": 74,
   "id": "8de9670a",
   "metadata": {},
   "outputs": [],
   "source": [
    "from sklearn.metrics import confusion_matrix,accuracy_score,recall_score, precision_score,classification_report,f1_score"
   ]
  },
  {
   "cell_type": "markdown",
   "id": "90957c53",
   "metadata": {},
   "source": [
    "## confusion matrix\n",
    "\n",
    "A confusion matrix is a table that is used to define the performance of a classification algorithm. A confusion matrix visualizes and summarizes the performance of a classification algorithm.\n",
    "\n",
    "<img src=\"cm.png\" width=\"500\">\n",
    "\n",
    "Where the terms have the meaning:\n",
    "\n",
    "\t__True Positive(TP):__ A result that was predicted as positive by the classification model and also is positive\n",
    "\n",
    "\t__True Negative(TN):__ A result that was predicted as negative by the classification model and also is negative\n",
    "\n",
    "\t__False Positive(FP):__ A result that was predicted as positive by the classification model but actually is negative\n",
    "\n",
    "\t__False Negative(FN):__ A result that was predicted as negative by the classification model but actually is positive.\n",
    "\n",
    "The Credibility of the model is based on how many correct predictions did the model do."
   ]
  },
  {
   "cell_type": "code",
   "execution_count": 75,
   "id": "204ffd33",
   "metadata": {},
   "outputs": [
    {
     "name": "stdout",
     "output_type": "stream",
     "text": [
      "[[147  31]\n",
      " [ 18  72]]\n"
     ]
    }
   ],
   "source": [
    "cm=confusion_matrix(y_test,y_pred)\n",
    "print(cm)"
   ]
  },
  {
   "cell_type": "markdown",
   "id": "df3ba4bb",
   "metadata": {},
   "source": [
    "\n",
    "\t__True Positive(TP):__  72\n",
    "\n",
    "\t__True Negative(TN):__ 147\n",
    "\n",
    "\t__False Positive(FP):__ 31\n",
    "\n",
    "\t__False Negative(FN):__ 18\n",
    "    \n",
    "so therefore we have 49 mixed classifiers in the model"
   ]
  },
  {
   "cell_type": "code",
   "execution_count": 76,
   "id": "77761e42",
   "metadata": {},
   "outputs": [
    {
     "data": {
      "text/html": [
       "<div>\n",
       "<style scoped>\n",
       "    .dataframe tbody tr th:only-of-type {\n",
       "        vertical-align: middle;\n",
       "    }\n",
       "\n",
       "    .dataframe tbody tr th {\n",
       "        vertical-align: top;\n",
       "    }\n",
       "\n",
       "    .dataframe thead th {\n",
       "        text-align: right;\n",
       "    }\n",
       "</style>\n",
       "<table border=\"1\" class=\"dataframe\">\n",
       "  <thead>\n",
       "    <tr style=\"text-align: right;\">\n",
       "      <th>col_0</th>\n",
       "      <th>0</th>\n",
       "      <th>1</th>\n",
       "    </tr>\n",
       "    <tr>\n",
       "      <th>Survived</th>\n",
       "      <th></th>\n",
       "      <th></th>\n",
       "    </tr>\n",
       "  </thead>\n",
       "  <tbody>\n",
       "    <tr>\n",
       "      <th>0</th>\n",
       "      <td>147</td>\n",
       "      <td>31</td>\n",
       "    </tr>\n",
       "    <tr>\n",
       "      <th>1</th>\n",
       "      <td>18</td>\n",
       "      <td>72</td>\n",
       "    </tr>\n",
       "  </tbody>\n",
       "</table>\n",
       "</div>"
      ],
      "text/plain": [
       "col_0       0   1\n",
       "Survived         \n",
       "0         147  31\n",
       "1          18  72"
      ]
     },
     "execution_count": 76,
     "metadata": {},
     "output_type": "execute_result"
    }
   ],
   "source": [
    "pd.crosstab(y_test,y_pred)"
   ]
  },
  {
   "cell_type": "code",
   "execution_count": 77,
   "id": "2eba8161",
   "metadata": {},
   "outputs": [
    {
     "data": {
      "text/plain": [
       "0.8171641791044776"
      ]
     },
     "execution_count": 77,
     "metadata": {},
     "output_type": "execute_result"
    }
   ],
   "source": [
    "Acc = accuracy_score(y_test,y_pred)\n",
    "Acc"
   ]
  },
  {
   "cell_type": "code",
   "execution_count": 78,
   "id": "874da5b7",
   "metadata": {},
   "outputs": [
    {
     "data": {
      "text/plain": [
       "0.8"
      ]
     },
     "execution_count": 78,
     "metadata": {},
     "output_type": "execute_result"
    }
   ],
   "source": [
    "recall=recall_score(y_test,y_pred)\n",
    "recall"
   ]
  },
  {
   "cell_type": "code",
   "execution_count": 79,
   "id": "b03112b6",
   "metadata": {},
   "outputs": [
    {
     "data": {
      "text/plain": [
       "0.6990291262135923"
      ]
     },
     "execution_count": 79,
     "metadata": {},
     "output_type": "execute_result"
    }
   ],
   "source": [
    "precision=precision_score(y_test,y_pred)\n",
    "precision"
   ]
  },
  {
   "cell_type": "code",
   "execution_count": 80,
   "id": "01de2f1b",
   "metadata": {},
   "outputs": [
    {
     "data": {
      "text/plain": [
       "0.7461139896373058"
      ]
     },
     "execution_count": 80,
     "metadata": {},
     "output_type": "execute_result"
    }
   ],
   "source": [
    "f1score=f1_score(y_test,y_pred)\n",
    "f1score"
   ]
  },
  {
   "cell_type": "code",
   "execution_count": 81,
   "id": "718d4f99",
   "metadata": {},
   "outputs": [
    {
     "name": "stdout",
     "output_type": "stream",
     "text": [
      "              precision    recall  f1-score   support\n",
      "\n",
      "           0       0.89      0.83      0.86       178\n",
      "           1       0.70      0.80      0.75        90\n",
      "\n",
      "    accuracy                           0.82       268\n",
      "   macro avg       0.79      0.81      0.80       268\n",
      "weighted avg       0.83      0.82      0.82       268\n",
      "\n"
     ]
    }
   ],
   "source": [
    "cr=classification_report(y_test,y_pred)\n",
    "print(cr)"
   ]
  },
  {
   "cell_type": "code",
   "execution_count": 82,
   "id": "b44a866e",
   "metadata": {},
   "outputs": [
    {
     "data": {
      "text/plain": [
       "0    178\n",
       "1     90\n",
       "Name: Survived, dtype: int64"
      ]
     },
     "execution_count": 82,
     "metadata": {},
     "output_type": "execute_result"
    }
   ],
   "source": [
    "y_test.value_counts()"
   ]
  },
  {
   "cell_type": "code",
   "execution_count": null,
   "id": "bfc44d3a",
   "metadata": {},
   "outputs": [],
   "source": []
  }
 ],
 "metadata": {
  "kernelspec": {
   "display_name": "Python 3 (ipykernel)",
   "language": "python",
   "name": "python3"
  },
  "language_info": {
   "codemirror_mode": {
    "name": "ipython",
    "version": 3
   },
   "file_extension": ".py",
   "mimetype": "text/x-python",
   "name": "python",
   "nbconvert_exporter": "python",
   "pygments_lexer": "ipython3",
   "version": "3.9.13"
  }
 },
 "nbformat": 4,
 "nbformat_minor": 5
}
